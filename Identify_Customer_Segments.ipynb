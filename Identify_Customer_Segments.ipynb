{
 "cells": [
  {
   "cell_type": "markdown",
   "metadata": {},
   "source": [
    "# Project: Identify Customer Segments\n",
    "\n",
    "In this project, you will apply unsupervised learning techniques to identify segments of the population that form the core customer base for a mail-order sales company in Germany. These segments can then be used to direct marketing campaigns towards audiences that will have the highest expected rate of returns. The data that you will use has been provided by our partners at Bertelsmann Arvato Analytics, and represents a real-life data science task.\n",
    "\n",
    "This notebook will help you complete this task by providing a framework within which you will perform your analysis steps. In each step of the project, you will see some text describing the subtask that you will perform, followed by one or more code cells for you to complete your work. **Feel free to add additional code and markdown cells as you go along so that you can explore everything in precise chunks.** The code cells provided in the base template will outline only the major tasks, and will usually not be enough to cover all of the minor tasks that comprise it.\n",
    "\n",
    "It should be noted that while there will be precise guidelines on how you should handle certain tasks in the project, there will also be places where an exact specification is not provided. **There will be times in the project where you will need to make and justify your own decisions on how to treat the data.** These are places where there may not be only one way to handle the data. In real-life tasks, there may be many valid ways to approach an analysis task. One of the most important things you can do is clearly document your approach so that other scientists can understand the decisions you've made.\n",
    "\n",
    "At the end of most sections, there will be a Markdown cell labeled **Discussion**. In these cells, you will report your findings for the completed section, as well as document the decisions that you made in your approach to each subtask. **Your project will be evaluated not just on the code used to complete the tasks outlined, but also your communication about your observations and conclusions at each stage.**"
   ]
  },
  {
   "cell_type": "code",
   "execution_count": null,
   "metadata": {},
   "outputs": [],
   "source": [
    "%%capture\n",
    "%pip install --user missingno\n",
    "%pip install --user modin[all]"
   ]
  },
  {
   "cell_type": "code",
   "execution_count": 16,
   "metadata": {},
   "outputs": [],
   "source": [
    "# import libraries here; add more as necessary\n",
    "import numpy as np\n",
    "# import pandas as pd\n",
    "import modin.pandas as pd\n",
    "import pickle\n",
    "import matplotlib.pyplot as plt\n",
    "import seaborn as sns\n",
    "import missingno as msno\n",
    "import warnings\n",
    "from sklearn.compose import ColumnTransformer\n",
    "from sklearn.pipeline import Pipeline\n",
    "from sklearn.preprocessing import OrdinalEncoder, OneHotEncoder, KBinsDiscretizer, StandardScaler\n",
    "from sklearn.impute import SimpleImputer\n",
    "from sklearn.cluster import KMeans\n",
    "from sklearn.model_selection import GridSearchCV\n",
    "from sklearn.decomposition import PCA\n",
    "import inspect\n",
    "from IPython.display import display as idisplay\n",
    "# import sys, traceback\n",
    "from pprint import pprint\n",
    "%matplotlib inline\n",
    "\n",
    "display = lambda df: idisplay((df._to_pandas() if 'modin.pandas' in str(type(df)) else df))\n",
    "warnings.filterwarnings(\"ignore\")\n",
    "pd.set_option(\"display.max_rows\", None, \"display.max_columns\", None)\n",
    "\n",
    "feat_info = pd.read_csv('AZDIAS_Feature_Summary.csv', sep=';')\n",
    "\n",
    "def categorize_binary_features(cleaned_df):\n",
    "    \"\"\"\n",
    "    NOTE: If the dataframe hasn't been scrubbed of encoded \"nulls\"\n",
    "    then this will miscategorize binary variables.\n",
    "    \"\"\"\n",
    "    feat_info.loc[feat_info.attribute.isin(\n",
    "        [c for c in list(cleaned_df) if cleaned_df[c].nunique() == 2]), 'type'] = 'binary'\n",
    "    \n",
    "    return cleaned_df\n",
    "\n",
    "\n",
    "def cols_by_type(type_name, subset_of_columns=None):\n",
    "    if not subset_of_columns:\n",
    "        cols = feat_info.attribute.tolist()\n",
    "    else:\n",
    "        cols = subset_of_columns\n",
    "\n",
    "    return [col for col in feat_info[feat_info.type == type_name].attribute.tolist()\n",
    "            if col in cols]\n",
    "\n",
    "def print_types():\n",
    "    sep = '*' * 15\n",
    "    pprint({f'{sep} << {t} >> {sep}': cols_by_type(t) for t in feat_info.type.unique()})\n",
    "\n",
    "\n",
    "def __to_pd(df):\n",
    "    return df._to_pandas() if 'modin.pandas' in str(type(df)) else df\n",
    "\n",
    "def engineer_new_features(df):\n",
    "    try:\n",
    "        df['PRAEGENDE_JUGENDJAHRE'] = df['PRAEGENDE_JUGENDJAHRE'].map(\n",
    "            {1: 1, 2: 1, 3: 2, 4: 2, 5: 3, 6: 3, 7: 3, 8: 4,\n",
    "             9: 4, 0: 5, 1: 5, 2: 5, 3: 5, 4: 6, 5: 6, })\n",
    "    except KeyError:\n",
    "        print('PRAEGENDE_JUGENDJAHRE not present in the dataframe')\n",
    "\n",
    "    try:\n",
    "#         df['CAMEO_INTL_2015'] = df['CAMEO_INTL_2015'].map(\n",
    "#             {11: 1, 12: 1, 13: 1, 14: 1, 15: 1, 21: 2, 22: 2, 23: 2,\n",
    "#              24: 2, 25: 2, 31: 3, 32: 3, 33: 3, 34: 3, 35: 3, 41: 4, 42: 4,\n",
    "#              43: 4, 44: 4, 45: 4, 51: 5, 52: 5, 53: 5, 54: 5, 55: 5, })    \n",
    "        df['CAMEO_INTL_2015_1'] = df['CAMEO_INTL_2015'].str.slice(start=0, stop=1).astype('float64')\n",
    "        df['CAMEO_INTL_2015_2'] = df['CAMEO_INTL_2015'].str.slice(start=1, stop=2).astype('float64')\n",
    "        df = df.drop('CAMEO_INTL_2015', axis=1)\n",
    "    except KeyError:\n",
    "        print('CAMEO_INTL_2015 not present in the dataframe')\n",
    "\n",
    "    try:\n",
    "        df['OST_WEST_KZ'] = df['OST_WEST_KZ'].map({'O':0.0, 'W':1.0})\n",
    "    except KeyError:\n",
    "        print('OST_WEST_KZ not present in the dataframe')\n",
    "        \n",
    "    try: \n",
    "        df = df.drop('CAMEO_DEU_2015', axis=1)\n",
    "    except ValueError:\n",
    "        print('CAMEO_DEU_2015 not present in the dataframe')\n",
    "        \n",
    "    return df\n",
    "\n",
    "def clean_data(df, get_missing=False):\n",
    "    \"\"\"\n",
    "    Perform feature trimming, re-encoding, and engineering for demographics data\n",
    "\n",
    "    INPUT: Demographics DataFrame\n",
    "    OUTPUT: Trimmed and cleaned demographics DataFrame\n",
    "    \"\"\"\n",
    "    # Put in code here to execute all main cleaning steps:\n",
    "    # convert missing value codes into NaNs, ...\n",
    "\n",
    "    # Example taken from: https://www.youtube.com/watch?v=7ZHRM0Fl2S8\n",
    "    df = df.copy()\n",
    "    display_missing_data_diff = lambda perc_missing: display(perc_missing)\n",
    "    feat_info.missing_or_unknown = feat_info.missing_or_unknown.str.strip('[]').str.split(',')\n",
    "    perc_missing_before_clean = ((df.isnull().sum() / len(df)).sort_values(ascending=False)) * 100\n",
    "\n",
    "    missing_vals = {feat[0]: feat[1]\n",
    "                    for feat in feat_info[['attribute', 'missing_or_unknown']].values.tolist()}\n",
    "\n",
    "    ## FILL IN MISSING DATA ACCORDING TO FEATURE INFO DATA\n",
    "    for c in df.columns:\n",
    "        df.loc[df[c].isin(missing_vals[c]), c] = np.NaN\n",
    "    perc_missing_after_clean = ((df.isnull().sum() / len(df)).sort_values(ascending=False)) * 100\n",
    "\n",
    "    # TODO -- Remove rows as well as columns\n",
    "    # select, re-encode, and engineer column values.\n",
    "    # UPDATING DATA TYPES\n",
    "    for col in feat_info[feat_info.type == 'categorical'].attribute.tolist():\n",
    "        print(col)\n",
    "        df[col] = df[col].astype('category')\n",
    "        try:\n",
    "            df[col] = df[col].astype('category')\n",
    "        except KeyError as e:\n",
    "            print(f'Missing {col}', '*'*60, '\\n\\n\\n', e)\n",
    "            # IGNORE PREVIOUSLY DROPPED COLUMNS\n",
    "#             print(f'\"{col}\" is not categorical...Ignoring...')\n",
    "            pass\n",
    "    # Remove selected columns and rows, ...\n",
    "    df.drop(perc_missing_after_clean[perc_missing_after_clean > 20].index.tolist(), axis=1, inplace=True)\n",
    "\n",
    "    remaining_cols = df.columns\n",
    "    perc_missing = pd.concat([perc_missing_before_clean,\n",
    "                              perc_missing_after_clean], axis=1).reset_index()\n",
    "    perc_missing.columns = ['Attributes', 'Missing Before', 'Missing After']\n",
    "    perc_missing['Dropped'] = perc_missing.Attributes.apply(\n",
    "        lambda x: False if x in remaining_cols else True\n",
    "    )\n",
    "    perc_missing = perc_missing.set_index('Attributes')\n",
    "    if get_missing:\n",
    "        display_missing_data_diff(perc_missing) \n",
    "        return engineer_new_features(df.dropna()), perc_missing\n",
    "    \n",
    "    ## TODO -- Should I put dropna here???\n",
    "    df =  engineer_new_features(df.dropna())\n",
    "    df =  categorize_binary_features(df)\n",
    "\n",
    "    return df.dropna()\n",
    "\n",
    "def scale_features(df):\n",
    "    \"\"\"Example from:\n",
    "    https://stackoverflow.com/questions/43798377/\n",
    "    one-hot-encode-categorical-variables-and-scale-continuous-ones-simultaneouely\n",
    "    \"\"\"\n",
    "    df = df.dropna()\n",
    "    df = __to_pd(df)\n",
    "\n",
    "    nums = cols_by_type('numeric', list(df))\n",
    "    ordinal = cols_by_type('ordinal', list(df))\n",
    "    cat = cols_by_type('categorical', list(df))\n",
    "    \n",
    "    ##Manual Exceptions for Mixed Types\n",
    "    [ordinal.append(c) for c in ['PLZ8_BAUMAX', 'WOHNLAGE'] if c in list(df)] \n",
    "    [cat.append(c) for c in  \n",
    "        ['ALTERSKATEGORIE_GROB','LP_LEBENSPHASE_FEIN', 'LP_LEBENSPHASE_GROB', 'PRAEGENDE_JUGENDJAHRE']\n",
    "     if c in list(df)\n",
    "    ]\n",
    "    \n",
    "    coltransformer = ColumnTransformer(\n",
    "        transformers=[\n",
    "            ('ord', OrdinalEncoder(), ordinal),  # ('num_scaler', StandardScaler(), nums),\n",
    "            ('num_imputer', SimpleImputer(), nums),\n",
    "            ('onehot', OneHotEncoder(), cat)\n",
    "        ],\n",
    "        remainder='passthrough', #'drop',\n",
    "        n_jobs=-1)\n",
    "    \n",
    "    scaler = StandardScaler()\n",
    "    scaler.fit_transform(coltransformer.fit_transform(df))\n",
    "\n",
    "    return scaler\n",
    "\n",
    "def get_set_pipe(df, params=None): # prep_only=False, **kwargs):\n",
    "#     if prep_only:\n",
    "#         return Pipeline(steps=[('prep', scale_features(df))])\n",
    "#     else: \n",
    "#         kwargs = {} if kwargs is None else kwargs\n",
    "#         pca = PCA(kwargs.get(''pca__n_components', Nonep:ca__n_components', None))\n",
    "#         km = KMeans(kwargs.get('km__n_clusters', None))\n",
    "#         return Pipeline(steps=[('prep', scale_features(df)), ('pca', pca), ('km', km)])\n",
    "    if params:        \n",
    "        pca__n_components = params.get('pca__n_components', None)\n",
    "        km__n_clusters = params.get('km__n_clusters', None)        \n",
    "        pca = PCA(pca__n_components) if pca__n_components else PCA()\n",
    "        km = KMeans(km__n_clusters) if km__n_clusters else KMeans()\n",
    "    else:\n",
    "        km, pca = KMeans(), PCA()\n",
    "        \n",
    "    return Pipeline(steps=[('prep', scale_features(df)), ('pca', pca), ('km', km)])\n",
    "\n",
    "def grid_search(df):\n",
    "    df = __to_pd(df)\n",
    "    pipe = get_set_pipe(df)\n",
    "    pipe.fit(df)\n",
    "    param_grid = {\n",
    "        'pca__n_components': [5, 15, 30, 45, 64],\n",
    "        \"km__n_clusters\": range(2, 11),\n",
    "    }\n",
    "    search = GridSearchCV(pipe, param_grid, n_jobs=-1, verbose=10)\n",
    "    search.fit(df)\n",
    "\n",
    "    return dict(best_score=search.best_score_,\n",
    "                               best_params=search.best_params_,\n",
    "                               named_steps=search.best_estimator_.named_steps)\n",
    "\n",
    "def fit_model_pipe(df, params=None):\n",
    "    df = __to_pd(df)\n",
    "    params = grid_search(df, show_only=False) if params is None else params\n",
    "    km = KMeans(params['km__n_clusters'])\n",
    "    pca = PCA(params['pca__n_components'])\n",
    "    transformer = scale_features(df)\n",
    "\n",
    "    return Pipeline(steps=[('prep', transformer), ('pca', pca), ('km', km)]).fit(df)\n",
    "\n",
    "def add_missing_dummy_columns(d, columns):\n",
    "    \"\"\"TAKEN FROM: https://knowledge.udacity.com/questions/65620\"\"\"\n",
    "    missing_cols = set(columns) - set(d.columns)\n",
    "    print(missing_cols)\n",
    "    for c in missing_cols:\n",
    "        d[c] = 0\n",
    "           \n",
    "def fix_columns(d, columns):  \n",
    "    \"\"\"TAKEN FROM: https://knowledge.udacity.com/questions/65620\"\"\"\n",
    "    add_missing_dummy_columns(d, columns)\n",
    "    # make sure we have all the columns we need\n",
    "    assert(set(columns) - set(d.columns) == set())\n",
    "    extra_cols = set(d.columns) - set(columns)\n",
    "    if extra_cols:\n",
    "        print(\"extra columns:\", extra_cols)\n",
    "    d = d[columns]\n",
    "    return d\n",
    "\n",
    "print_src = lambda func_name: print(f\"\"\"\\033[92m\\033[94m{inspect.getsource(globals()[func_name])}\\033[94m\\033[92m\"\"\")\n"
   ]
  },
  {
   "cell_type": "markdown",
   "metadata": {},
   "source": [
    "### Step 0: Load the Data\n",
    "\n",
    "There are four files associated with this project (not including this one):\n",
    "\n",
    "- `Udacity_azdias_Subset.csv`: Demographics data for the general population of Germany; 891211 persons (rows) x 85 features (columns).\n",
    "- `Udacity_CUSTOMERS_Subset.csv`: Demographics data for customers of a mail-order company; 191652 persons (rows) x 85 features (columns).\n",
    "- `Data_Dictionary.md`: Detailed information file about the features in the provided datasets.\n",
    "- `azdias_Feature_Summary.csv`: Summary of feature attributes for demographics data; 85 features (rows) x 4 columns\n",
    "\n",
    "Each row of the demographics files represents a single person, but also includes information outside of individuals, including information about their household, building, and neighborhood. You will use this information to cluster the general population into groups with similar demographic properties. Then, you will see how the people in the customers dataset fit into those created clusters. The hope here is that certain clusters are over-represented in the customers data, as compared to the general population; those over-represented clusters will be assumed to be part of the core userbase. This information can then be used for further applications, such as targeting for a marketing campaign.\n",
    "\n",
    "To start off with, load in the demographics data for the general population into a pandas DataFrame, and do the same for the feature attributes summary. Note for all of the `.csv` data files in this project: they're semicolon (`;`) delimited, so you'll need an additional argument in your [`read_csv()`](https://pandas.pydata.org/pandas-docs/stable/generated/pandas.read_csv.html) call to read in the data properly. Also, considering the size of the main dataset, it may take some time for it to load completely.\n",
    "\n",
    "Once the dataset is loaded, it's recommended that you take a little bit of time just browsing the general structure of the dataset and feature summary file. You'll be getting deep into the innards of the cleaning in the first major step of the project, so gaining some general familiarity can help you get your bearings."
   ]
  },
  {
   "cell_type": "code",
   "execution_count": null,
   "metadata": {
    "scrolled": true
   },
   "outputs": [],
   "source": [
    "%%time\n",
    "# Load in the general demographics data.\n",
    "azdias = pd.read_csv('Udacity_AZDIAS_Subset.csv', sep=';')\n",
    "# Load in the feature summary file.\n",
    "feat_info = pd.read_csv('AZDIAS_Feature_Summary.csv', sep=';')"
   ]
  },
  {
   "cell_type": "code",
   "execution_count": null,
   "metadata": {},
   "outputs": [],
   "source": [
    "# Check the structure of the data after it's loaded (e.g. print the number of\n",
    "# rows and columns, print the first few rows).\n",
    "\n",
    "\"\"\"\n",
    "NOTE: \n",
    "\n",
    "I manually call display here because the display function I'm using is shadowing\n",
    "the default Juptyer display function and has special \n",
    "functionality to handle a known bug with Jupyter displaying Modin dataframes\n",
    "\"\"\"\n",
    "\n",
    "display(azdias.head())\n",
    "display(feat_info.head())"
   ]
  },
  {
   "cell_type": "markdown",
   "metadata": {},
   "source": [
    "> **Tip**: Add additional cells to keep everything in reasonably-sized chunks! Keyboard shortcut `esc --> a` (press escape to enter command mode, then press the 'A' key) adds a new cell before the active cell, and `esc --> b` adds a new cell after the active cell. If you need to convert an active cell to a markdown cell, use `esc --> m` and to convert to a code cell, use `esc --> y`. \n",
    "\n",
    "## Step 1: Preprocessing\n",
    "\n",
    "### Step 1.1: Assess Missing Data\n",
    "\n",
    "The feature summary file contains a summary of properties for each demographics data column. You will use this file to help you make cleaning decisions during this stage of the project. First of all, you should assess the demographics data in terms of missing data. Pay attention to the following points as you perform your analysis, and take notes on what you observe. Make sure that you fill in the **Discussion** cell with your findings and decisions at the end of each step that has one!\n",
    "\n",
    "#### Step 1.1.1: Convert Missing Value Codes to NaNs\n",
    "The fourth column of the feature attributes summary (loaded in above as `feat_info`) documents the codes from the data dictionary that indicate missing or unknown data. While the file encodes this as a list (e.g. `[-1,0]`), this will get read in as a string object. You'll need to do a little bit of parsing to make use of it to identify and clean the data. Convert data that matches a 'missing' or 'unknown' value code into a numpy NaN value. You might want to see how much data takes on a 'missing' or 'unknown' code, and how much data is naturally missing, as a point of interest.\n",
    "\n",
    "**As one more reminder, you are encouraged to add additional cells to break up your analysis into manageable chunks.**"
   ]
  },
  {
   "cell_type": "markdown",
   "metadata": {},
   "source": [
    "#### Step 1.1.2: Assess Missing Data in Each Column\n",
    "\n",
    "How much missing data is present in each column? There are a few columns that are outliers in terms of the proportion of values that are missing. You will want to use matplotlib's [`hist()`](https://matplotlib.org/api/_as_gen/matplotlib.pyplot.hist.html) function to visualize the distribution of missing value counts to find these columns. Identify and document these columns. While some of these columns might have justifications for keeping or re-encoding the data, for this project you should just remove them from the dataframe. (Feel free to make remarks about these outlier columns in the discussion, however!)\n",
    "\n",
    "For the remaining features, are there any patterns in which columns have, or share, missing data?"
   ]
  },
  {
   "cell_type": "markdown",
   "metadata": {},
   "source": [
    "### Step 1.1 & Step 1.1.1 (SOLUTIONS): Assess Missing Data"
   ]
  },
  {
   "cell_type": "code",
   "execution_count": null,
   "metadata": {},
   "outputs": [],
   "source": [
    "%%time\n",
    "display(feat_info.head(n=10))"
   ]
  },
  {
   "cell_type": "code",
   "execution_count": null,
   "metadata": {},
   "outputs": [],
   "source": [
    "%%time\n",
    "# Perform an assessment of how much missing data there is in each column of the dataset. \n",
    "\n",
    "# Correctly converts encodings for missing data to NaNs\n",
    "# Then Removes Rows / Columns of missing data and updates dtypes\n",
    "\n",
    "cleaned_azdias, perc_missing =  clean_data(azdias, get_missing=True) #View source code with print_src('clean_data')\n",
    "## ALSO DISPLAY MISSING DATA"
   ]
  },
  {
   "cell_type": "code",
   "execution_count": null,
   "metadata": {},
   "outputs": [],
   "source": [
    "%%time\n",
    "# Investigate patterns in the amount of missing data in each column.\n",
    "# # msno.bar(azdias) \n",
    "# msno.heatmap(azdias)\n",
    "\n",
    "# plt.figure(figsize=(20,20))\n",
    "# sns.heatmap(azdias.isnull(), cbar=False)\n",
    "\"\"\"\n",
    "Formatting how-to taken from:\n",
    "https://stackoverflow.com/questions/3899980/how-to-change-the-font-size-on-a-matplotlib-plot\n",
    "\"\"\"\n",
    "\n",
    "font = {'family' : 'normal',\n",
    "        'weight' : 'bold',\n",
    "        'size'   : 14}\n",
    "\n",
    "plt.rc('font', **font)\n",
    "plt.figure(figsize=(20,20))\n",
    "plt.title('Percentage Missing for Initial Columns BEFORE Data Cleansing')\n",
    "perc_missing['Missing Before'].sort_values(ascending=False).plot.bar()"
   ]
  },
  {
   "cell_type": "code",
   "execution_count": null,
   "metadata": {},
   "outputs": [],
   "source": [
    "%%time\n",
    "# Investigate patterns in the amount of missing data in each column.\n",
    "font = {'family' : 'normal',\n",
    "        'weight' : 'bold',\n",
    "        'size'   : 14}\n",
    "\n",
    "plt.rc('font', **font)\n",
    "plt.figure(figsize=(20,20))\n",
    "plt.title('Percentage Missing for Columns AFTER Updating NaN Values (and before dropping cols missing > 20%)')\n",
    "perc_missing['Missing After'].sort_values(ascending=False).plot.bar()"
   ]
  },
  {
   "cell_type": "code",
   "execution_count": null,
   "metadata": {},
   "outputs": [],
   "source": [
    "%%time\n",
    "# Investigate patterns in the amount of missing data in each column.\n",
    "\n",
    "plt.figure(figsize=(20,20))\n",
    "plt.title('Percentage Missing for Remaining Columns AFTER Data Cleansing')\n",
    "perc_missing.query('Dropped == False')['Missing After'].sort_values(ascending=False).plot.bar()"
   ]
  },
  {
   "cell_type": "code",
   "execution_count": null,
   "metadata": {
    "scrolled": true
   },
   "outputs": [],
   "source": [
    "%%time\n",
    "# Remove the outlier columns from the dataset. (You'll perform other data\n",
    "# engineering tasks such as re-encoding and imputation later.)\n",
    "\n",
    "# Rule of thumb is more than 20% of missing data can throw off analysis\n",
    "\n",
    "\"\"\"\n",
    "NOTE: Outlier Columns were already removed via the \"clean_data\" method previously.\n",
    "See source code before.\n",
    "\"\"\"\n",
    "print_src('clean_data')"
   ]
  },
  {
   "cell_type": "code",
   "execution_count": null,
   "metadata": {},
   "outputs": [],
   "source": [
    "sep = '='*60\n",
    "print(f'{sep}\\nDROPPED Columns:\\n{sep}')\n",
    "display(perc_missing.query('Dropped == True'))"
   ]
  },
  {
   "cell_type": "markdown",
   "metadata": {},
   "source": [
    "#### Discussion 1.1.2: Assess Missing Data in Each Column\n",
    "\n",
    "The initial set of missing data was misleading. Decoding the \"missing values\" as were specified in the accompanying documents lead me to understand that \n",
    "many features contained a significant amount more missing data than I assumed from first glance. It rendered a handful of features useless.\n",
    "\n",
    "These are the dropped columns missing > 20%: AGER_TYP, ALTER_HH, GEBURTSJAHR, KBA05_BAUMAX, KK_KUNDENTYP, and TITEL_KZ.\n",
    "    \n",
    "\"TITEL_KZ\" in particular went from ~8% to ~99% null after accounting for encoded values.\n",
    "This makes sense when looking at the data dictionary. Most people do not have title specifying academic acheivement (like Dr. or Prof.). It could have been recoded for having and not-having an honorific title, but the remaining number of entries likely wouldn't reveal a significant trend. If it did, then specific titles are likely correlated with household income which would be a better overall predictor in general.\n",
    "\n",
    "GEBURTSJAHR (year of birth) is intuitively an important feature. If this data is not present or useable, I would suggest that the company attempt to collect this data by other direct or indirect means if it can't be inferred from other, existing features.\n",
    "\n",
    "Per each feature, it would be wise to classify missing data trends as Missing at Random, Missing Completely at Random, Missing Not at Random, etc.. \n",
    "\n",
    "Reference -- https://towardsdatascience.com/all-about-missing-data-handling-b94b8b5d2184\n",
    "\n",
    "For the other columns, I am either not familiar with the terminology used enough to apply any significant meaning (i.e. not sure what microcell and passive elderly) or the terms seem value or subjective. For instance, head of household is an ambiguous and/or culturally outdated term. It could signify the top fiscal earner or father in traditional nuclear family, but may not apply to dual-income egalitarian households.\n",
    "\n",
    "For remaining columns with a high percent of missing values, I'd want to find out if there is an underlying reason, which may influence my decision to impute vs. drop.  \n",
    "\n",
    "This does raise the importance of understanding the underlying data and how its collected and having insight into the business domain.\n",
    "On its surface this seems like an obvious thing to point out, but I have seen plenty of case where people try to niavely throw algorithms, tools, etc.. at data expecting it to yield value.\n",
    "It is vitally important to sit down with subject matter experts, data entry personnel, and long-time exmployees who understand how encoded data changes over time.\n",
    "This dataset comes with a data dictionary that spells it out for you, but in the real world one might have to go digging to find encoded data that should be NULL to eliminate\n",
    "dummy records. Spending weeks or months interviewing data and business process owners is tedious. The tendency is for data practioners to skip straight to modeling  either due to\n",
    "pure negligence or environmental stressors such as impatient business stakeholders.\n",
    "\n",
    "Apart from this excersise, its also very important to understand WHY certain data is missing. Sometimes missing data gives insights into a business process and can yield\n",
    "additional features in its own right. If this were a real-world scenario, I would be inclined to ask business users why certain features are almost entirely empty.\n",
    "\n",
    "Some example business questions might be:\n",
    "    - Did we just recently start collecting that data? \n",
    "    - Is there something about specific populations that would lead to omissions? \n",
    "    - Is this data volitioning provided by customers and if so can we infer any additional customer behaviors \n",
    "    from their desire to abstain from answering particular survey questions?"
   ]
  },
  {
   "cell_type": "markdown",
   "metadata": {},
   "source": [
    "#### Step 1.1.3: Assess Missing Data in Each Row\n",
    "\n",
    "Now, you'll perform a similar assessment for the rows of the dataset. How much data is missing in each row? As with the columns, you should see some groups of points that have a very different numbers of missing values. Divide the data into two subsets: one for data points that are above some threshold for missing values, and a second subset for points below that threshold.\n",
    "\n",
    "In order to know what to do with the outlier rows, we should see if the distribution of data values on columns that are not missing data (or are missing very little data) are similar or different between the two groups. Select at least five of these columns and compare the distribution of values.\n",
    "- You can use seaborn's [`countplot()`](https://seaborn.pydata.org/generated/seaborn.countplot.html) function to create a bar chart of code frequencies and matplotlib's [`subplot()`](https://matplotlib.org/api/_as_gen/matplotlib.pyplot.subplot.html) function to put bar charts for the two subplots side by side.\n",
    "- To reduce repeated code, you might want to write a function that can perform this comparison, taking as one of its arguments a column to be compared.\n",
    "\n",
    "Depending on what you observe in your comparison, this will have implications on how you approach your conclusions later in the analysis. If the distributions of non-missing features look similar between the data with many missing values and the data with few or no missing values, then we could argue that simply dropping those points from the analysis won't present a major issue. On the other hand, if the data with many missing values looks very different from the data with few or no missing values, then we should make a note on those data as special. We'll revisit these data later on. **Either way, you should continue your analysis for now using just the subset of the data with few or no missing values.**"
   ]
  },
  {
   "cell_type": "code",
   "execution_count": null,
   "metadata": {},
   "outputs": [],
   "source": [
    "# %%time\n",
    "# corrs = azdias.isnull().corr()\n",
    "# corrs.abs().mean().sort_values(ascending=False)\n",
    "# # corrs.plot(figsize=(30,30))\n",
    "# corrs.style.background_gradient(cmap='coolwarm', axis=None)"
   ]
  },
  {
   "cell_type": "code",
   "execution_count": null,
   "metadata": {},
   "outputs": [],
   "source": []
  },
  {
   "cell_type": "code",
   "execution_count": null,
   "metadata": {},
   "outputs": [],
   "source": [
    "# How much data is missing in each row of the dataset?\n",
    "narows = azdias.copy()\n",
    "narows['cnt'], narows['perc'] = narows.isnull().sum(axis=1), (narows.isnull().sum(axis=1) / len(list(narows)))\n",
    "narows = narows[['cnt','perc']]\n",
    "# narows.sort_values(by='perc', as cending=False)"
   ]
  },
  {
   "cell_type": "code",
   "execution_count": null,
   "metadata": {},
   "outputs": [],
   "source": [
    "# Write code to divide the data into two subsets based on the number of missing\n",
    "# values in each row.\n",
    "below_50 = narows[narows.perc <= .5]\n",
    "above_50 = narows[narows.perc > .5]"
   ]
  },
  {
   "cell_type": "code",
   "execution_count": null,
   "metadata": {},
   "outputs": [],
   "source": [
    "# Compare the distribution of values for at least five columns where there are\n",
    "# no or few missing values, between the two subsets.\n"
   ]
  },
  {
   "cell_type": "markdown",
   "metadata": {},
   "source": [
    "#### Discussion 1.1.3: Assess Missing Data in Each Row\n",
    "\n",
    "(Double-click this cell and replace this text with your own text, reporting your observations regarding missing data in rows. Are the data with lots of missing values are qualitatively different from data with few or no missing values?)"
   ]
  },
  {
   "cell_type": "markdown",
   "metadata": {},
   "source": [
    "### Step 1.2: Select and Re-Encode Features\n",
    "\n",
    "Checking for missing data isn't the only way in which you can prepare a dataset for analysis. Since the unsupervised learning techniques to be used will only work on data that is encoded numerically, you need to make a few encoding changes or additional assumptions to be able to make progress. In addition, while almost all of the values in the dataset are encoded using numbers, not all of them represent numeric values. Check the third column of the feature summary (`feat_info`) for a summary of types of measurement.\n",
    "- For numeric and interval data, these features can be kept without changes.\n",
    "- Most of the variables in the dataset are ordinal in nature. While ordinal values may technically be non-linear in spacing, make the simplifying assumption that the ordinal variables can be treated as being interval in nature (that is, kept without any changes).\n",
    "- Special handling may be necessary for the remaining two variable types: categorical, and 'mixed'.\n",
    "\n",
    "In the first two parts of this sub-step, you will perform an investigation of the categorical and mixed-type features and make a decision on each of them, whether you will keep, drop, or re-encode each. Then, in the last part, you will create a new data frame with only the selected and engineered columns.\n",
    "\n",
    "Data wrangling is often the trickiest part of the data analysis process, and there's a lot of it to be done here. But stick with it: once you're done with this step, you'll be ready to get to the machine learning parts of the project!"
   ]
  },
  {
   "cell_type": "code",
   "execution_count": null,
   "metadata": {},
   "outputs": [],
   "source": []
  },
  {
   "cell_type": "markdown",
   "metadata": {},
   "source": [
    "#### Step 1.2.1: Re-Encode Categorical Features\n",
    "\n",
    "For categorical data, you would ordinarily need to encode the levels as dummy variables. Depending on the number of categories, perform one of the following:\n",
    "- For binary (two-level) categoricals that take numeric values, you can keep them without needing to do anything.\n",
    "- There is one binary variable that takes on non-numeric values. For this one, you need to re-encode the values as numbers or create a dummy variable.\n",
    "- For multi-level categoricals (three or more values), you can choose to encode the values using multiple dummy variables (e.g. via [OneHotEncoder](http://scikit-learn.org/stable/modules/generated/sklearn.preprocessing.OneHotEncoder.html)), or (to keep things straightforward) just drop them from the analysis. As always, document your choices in the Discussion section."
   ]
  },
  {
   "cell_type": "code",
   "execution_count": null,
   "metadata": {},
   "outputs": [],
   "source": [
    "# azdias.to_pickle('azdias.pkl')\n",
    "# azdias2.to_pickle('azdias2.pkl')\n",
    "# azdias = pd.read_pickle('azdias.pkl')\n",
    "# azdias2 = pd.read_pickle('azdias2.pkl')"
   ]
  },
  {
   "cell_type": "code",
   "execution_count": null,
   "metadata": {},
   "outputs": [],
   "source": [
    "%%time\n",
    "# Assess categorical variables: which are binary, which are multi-level, and\n",
    "# which one needs to be re-encoded?\n",
    "# Re-encode categorical variable(s) to be kept in the analysis.\n",
    "'Categorical (Binary too), and Ordinal features need to be re-encoded'\n",
    "\n",
    "#Called in the \"clean_data\" function\n",
    "print_src('categorize_binary_features')\n",
    "print_src('print_types')"
   ]
  },
  {
   "cell_type": "code",
   "execution_count": null,
   "metadata": {},
   "outputs": [],
   "source": [
    "# azdias = categorize_binary_features(cleaned_df=azdias)\n",
    "print_types()"
   ]
  },
  {
   "cell_type": "markdown",
   "metadata": {},
   "source": [
    "#### Discussion 1.2.1: Re-Encode Categorical Features\n",
    "\n",
    "(Double-click this cell and replace this text with your own text, reporting your findings and decisions regarding categorical features. Which ones did you keep, which did you drop, and what engineering steps did you perform?)"
   ]
  },
  {
   "cell_type": "markdown",
   "metadata": {},
   "source": [
    "#### Step 1.2.2: Engineer Mixed-Type Features\n",
    "\n",
    "There are a handful of features that are marked as \"mixed\" in the feature summary that require special treatment in order to be included in the analysis. There are two in particular that deserve attention; the handling of the rest are up to your own choices:\n",
    "- \"PRAEGENDE_JUGENDJAHRE\" combines information on three dimensions: generation by decade, movement (mainstream vs. avantgarde), and nation (east vs. west). While there aren't enough levels to disentangle east from west, you should create two new variables to capture the other two dimensions: an interval-type variable for decade, and a binary variable for movement.\n",
    "- \"CAMEO_INTL_2015\" combines information on two axes: wealth and life stage. Break up the two-digit codes by their 'tens'-place and 'ones'-place digits into two new ordinal variables (which, for the purposes of this project, is equivalent to just treating them as their raw numeric values).\n",
    "- If you decide to keep or engineer new features around the other mixed-type features, make sure you note your steps in the Discussion section.\n",
    "\n",
    "Be sure to check `Data_Dictionary.md` for the details needed to finish these tasks."
   ]
  },
  {
   "cell_type": "code",
   "execution_count": null,
   "metadata": {},
   "outputs": [],
   "source": [
    "# Investigate \"PRAEGENDE_JUGENDJAHRE\" and engineer two new variables.\n",
    "# FROM DATA_DICTIONARY\n",
    "\"\"\"Dominating movement of person's youth (avantgarde vs. mainstream; east vs. west)\n",
    "- -1: unknown\n",
    "-  0: unknown\n",
    "-  1: 40s - war years (Mainstream, E+W)\n",
    "-  2: 40s - reconstruction years (Avantgarde, E+W)\n",
    "-  3: 50s - economic miracle (Mainstream, E+W)\n",
    "-  4: 50s - milk bar / Individualisation (Avantgarde, E+W)\n",
    "-  5: 60s - economic miracle (Mainstream, E+W)\n",
    "-  6: 60s - generation 68 / student protestors (Avantgarde, W)\n",
    "-  7: 60s - opponents to the building of the Wall (Avantgarde, E)\n",
    "-  8: 70s - family orientation (Mainstream, E+W)\n",
    "-  9: 70s - peace movement (Avantgarde, E+W)\n",
    "- 10: 80s - Generation Golf (Mainstream, W)\n",
    "- 11: 80s - ecological awareness (Avantgarde, W)\n",
    "- 12: 80s - FDJ / communist party youth organisation (Mainstream, E)\n",
    "- 13: 80s - Swords into ploughshares (Avantgarde, E)\n",
    "- 14: 90s - digital media kids (Mainstream, E+W)\n",
    "- 15: 90s - ecological awareness (Avantgarde, E+W)\"\"\"\n",
    "\n",
    "# Investigate \"CAMEO_INTL_2015\" and engineer two new variables.\n",
    "# FROM DATA_DICTIONARY\n",
    "\"\"\"German CAMEO: Wealth / Life Stage Typology, mapped to international code\n",
    "- -1: unknown\n",
    "- 11: Wealthy Households - Pre-Family Couples & Singles\n",
    "- 12: Wealthy Households - Young Couples With Children\n",
    "- 13: Wealthy Households - Families With School Age Children\n",
    "- 14: Wealthy Households - Older Families &  Mature Couples\n",
    "- 15: Wealthy Households - Elders In Retirement\n",
    "- 21: Prosperous Households - Pre-Family Couples & Singles\n",
    "- 22: Prosperous Households - Young Couples With Children\n",
    "- 23: Prosperous Households - Families With School Age Children\n",
    "- 24: Prosperous Households - Older Families & Mature Couples\n",
    "- 25: Prosperous Households - Elders In Retirement\n",
    "- 31: Comfortable Households - Pre-Family Couples & Singles\n",
    "- 32: Comfortable Households - Young Couples With Children\n",
    "- 33: Comfortable Households - Families With School Age Children\n",
    "- 34: Comfortable Households - Older Families & Mature Couples\n",
    "- 35: Comfortable Households - Elders In Retirement\n",
    "- 41: Less Affluent Households - Pre-Family Couples & Singles\n",
    "- 42: Less Affluent Households - Young Couples With Children\n",
    "- 43: Less Affluent Households - Families With School Age Children\n",
    "- 44: Less Affluent Households - Older Families & Mature Couples\n",
    "- 45: Less Affluent Households - Elders In Retirement\n",
    "- 51: Poorer Households - Pre-Family Couples & Singles\n",
    "- 52: Poorer Households - Young Couples With Children\n",
    "- 53: Poorer Households - Families With School Age Children\n",
    "- 54: Poorer Households - Older Families & Mature Couples\n",
    "- 55: Poorer Households - Elders In Retirement\n",
    "- XX: unknown\"\"\"\n",
    "\n",
    "\n",
    "#NOTE: This was already called in the \"clean_data()\" method\n",
    "print_src('engineer_new_features')"
   ]
  },
  {
   "cell_type": "markdown",
   "metadata": {},
   "source": [
    "#### Discussion 1.2.2: Engineer Mixed-Type Features\n",
    "\n",
    "(Double-click this cell and replace this text with your own text, reporting your findings and decisions regarding mixed-value features. Which ones did you keep, which did you drop, and what engineering steps did you perform?)"
   ]
  },
  {
   "cell_type": "code",
   "execution_count": null,
   "metadata": {},
   "outputs": [],
   "source": []
  },
  {
   "cell_type": "markdown",
   "metadata": {},
   "source": [
    "#### Step 1.2.3: Complete Feature Selection\n",
    "\n",
    "In order to finish this step up, you need to make sure that your data frame now only has the columns that you want to keep. To summarize, the dataframe should consist of the following:\n",
    "- All numeric, interval, and ordinal type columns from the original dataset.\n",
    "- Binary categorical features (all numerically-encoded).\n",
    "- Engineered features from other multi-level categorical features and mixed features.\n",
    "\n",
    "Make sure that for any new columns that you have engineered, that you've excluded the original columns from the final dataset. Otherwise, their values will interfere with the analysis later on the project. For example, you should not keep \"PRAEGENDE_JUGENDJAHRE\", since its values won't be useful for the algorithm: only the values derived from it in the engineered features you created should be retained. As a reminder, your data should only be from **the subset with few or no missing values**."
   ]
  },
  {
   "cell_type": "code",
   "execution_count": null,
   "metadata": {},
   "outputs": [],
   "source": [
    "# If there are other re-engineering tasks you need to perform, make sure you\n",
    "# take care of them here. (Dealing with missing data will come in step 2.1.)\n",
    "\n"
   ]
  },
  {
   "cell_type": "code",
   "execution_count": null,
   "metadata": {},
   "outputs": [],
   "source": [
    "# Do whatever you need to in order to ensure that the dataframe only contains\n",
    "# the columns that should be passed to the algorithm functions.\n",
    "\n",
    "\"\"\"\n",
    "NOTE:\n",
    "This will be done with the scale_features function with the \n",
    "remainder='drop' transformer step\"\n",
    "\"\"\"\n",
    "\n",
    "print_src('scale_features')"
   ]
  },
  {
   "cell_type": "markdown",
   "metadata": {},
   "source": [
    "### Step 1.3: Create a Cleaning Function\n",
    "\n",
    "Even though you've finished cleaning up the general population demographics data, it's important to look ahead to the future and realize that you'll need to perform the same cleaning steps on the customer demographics data. In this substep, complete the function below to execute the main feature selection, encoding, and re-engineering steps you performed above. Then, when it comes to looking at the customer data in Step 3, you can just run this function on that DataFrame to get the trimmed dataset in a single step."
   ]
  },
  {
   "cell_type": "code",
   "execution_count": null,
   "metadata": {},
   "outputs": [],
   "source": [
    "%%time \n",
    "print_src('clean_data')"
   ]
  },
  {
   "cell_type": "markdown",
   "metadata": {},
   "source": [
    "## Step 2: Feature Transformation\n",
    "\n",
    "### Step 2.1: Apply Feature Scaling\n",
    "\n",
    "Before we apply dimensionality reduction techniques to the data, we need to perform feature scaling so that the principal component vectors are not influenced by the natural differences in scale for features. Starting from this part of the project, you'll want to keep an eye on the [API reference page for sklearn](http://scikit-learn.org/stable/modules/classes.html) to help you navigate to all of the classes and functions that you'll need. In this substep, you'll need to check the following:\n",
    "\n",
    "- sklearn requires that data not have missing values in order for its estimators to work properly. So, before applying the scaler to your data, make sure that you've cleaned the DataFrame of the remaining missing values. This can be as simple as just removing all data points with missing data, or applying an [Imputer](http://scikit-learn.org/stable/modules/generated/sklearn.preprocessing.Imputer.html) to replace all missing values. You might also try a more complicated procedure where you temporarily remove missing values in order to compute the scaling parameters before re-introducing those missing values and applying imputation. Think about how much missing data you have and what possible effects each approach might have on your analysis, and justify your decision in the discussion section below.\n",
    "- For the actual scaling function, a [StandardScaler](http://scikit-learn.org/stable/modules/generated/sklearn.preprocessing.StandardScaler.html) instance is suggested, scaling each feature to mean 0 and standard deviation 1.\n",
    "- For these classes, you can make use of the `.fit_transform()` method to both fit a procedure to the data as well as apply the transformation to the data at the same time. Don't forget to keep the fit sklearn objects handy, since you'll be applying them to the customer demographics data towards the end of the project."
   ]
  },
  {
   "cell_type": "code",
   "execution_count": null,
   "metadata": {},
   "outputs": [],
   "source": [
    "# If you've not yet cleaned the dataset of all NaN values, then investigate and\n",
    "# do that now."
   ]
  },
  {
   "cell_type": "code",
   "execution_count": null,
   "metadata": {},
   "outputs": [],
   "source": [
    "%%time\n",
    "# Apply feature scaling to the general population demographics data.\n",
    "transformer = scale_features(cleaned_azdias)"
   ]
  },
  {
   "cell_type": "code",
   "execution_count": null,
   "metadata": {},
   "outputs": [],
   "source": [
    "print_src('scale_features')"
   ]
  },
  {
   "cell_type": "markdown",
   "metadata": {},
   "source": [
    "### Discussion 2.1: Apply Feature Scaling\n",
    "\n",
    "(Double-click this cell and replace this text with your own text, reporting your decisions regarding feature scaling.)"
   ]
  },
  {
   "cell_type": "markdown",
   "metadata": {},
   "source": [
    "### Step 2.2: Perform Dimensionality Reduction\n",
    "\n",
    "On your scaled data, you are now ready to apply dimensionality reduction techniques.\n",
    "\n",
    "- Use sklearn's [PCA](http://scikit-learn.org/stable/modules/generated/sklearn.decomposition.PCA.html) class to apply principal component analysis on the data, thus finding the vectors of maximal variance in the data. To start, you should not set any parameters (so all components are computed) or set a number of components that is at least half the number of features (so there's enough features to see the general trend in variability).\n",
    "- Check out the ratio of variance explained by each principal component as well as the cumulative variance explained. Try plotting the cumulative or sequential values using matplotlib's [`plot()`](https://matplotlib.org/api/_as_gen/matplotlib.pyplot.plot.html) function. Based on what you find, select a value for the number of transformed features you'll retain for the clustering part of the project.\n",
    "- Once you've made a choice for the number of components to keep, make sure you re-fit a PCA instance to perform the decided-on transformation."
   ]
  },
  {
   "cell_type": "code",
   "execution_count": null,
   "metadata": {},
   "outputs": [],
   "source": [
    "%%time\n",
    "# azdias_cleaned.to_csv('azdias_cleaned.csv')\n",
    "# azdias = pd.read_csv('azdias_cleaned.csv')\n",
    "# azdias = clean_data(pd.read_csv('Udacity_AZDIAS_Subset.csv', ';'))\n",
    "\n",
    "# azdias.to_pickle('azdias_cleaned.pkl')\n",
    "azdias = pd.read_pickle('azdias_cleaned.pkl')"
   ]
  },
  {
   "cell_type": "code",
   "execution_count": null,
   "metadata": {},
   "outputs": [],
   "source": [
    "azdias.head()"
   ]
  },
  {
   "cell_type": "code",
   "execution_count": null,
   "metadata": {},
   "outputs": [],
   "source": [
    "# cols = azdias.isin(['W','8A']).any()\n",
    "# cols = list(cols[cols.reset_index()['O'==True]].index)\n",
    "# cols"
   ]
  },
  {
   "cell_type": "code",
   "execution_count": null,
   "metadata": {},
   "outputs": [],
   "source": [
    "# df['OST_WEST_KZ'].astype('category')\n",
    "# df['CAMEO_DEU_2015'].astype('category')\n",
    "# display(feat_info)\n",
    "# azdias['OST_WEST_KZ'] = azdias['OST_WEST_KZ'].map({'O':0.0, 'W':1.0})\n",
    "# azdias = azdias.drop('CAMEO_DEU_2015', axis=1)\n",
    "\n",
    "# - -1: unknown\n",
    "# -  'O':O: East (GDR)\n",
    "# -  W: West (FRG)"
   ]
  },
  {
   "cell_type": "code",
   "execution_count": null,
   "metadata": {
    "scrolled": true
   },
   "outputs": [],
   "source": [
    "%%time\n",
    "# azdias = clean_data(pd.read_csv('Udacity_AZDIAS_Subset.csv', ';'))\n",
    "# [azdias.drop(c, axis=1, inplace=True) for c in cols]\n",
    "azdias = azdias.dropna()\n",
    "pipe = get_set_pipe(azdias)\n",
    "pca = pipe.steps[1][1]\n",
    "pca.fit(scale_features(azdias).fit_transform(azdias))"
   ]
  },
  {
   "cell_type": "code",
   "execution_count": null,
   "metadata": {},
   "outputs": [],
   "source": [
    "# model = KMeans().fit_transform(pca.fit_transform(scale_features(df).fit_transform(df)))\n",
    "# grid_search_results = dict(best_params=dict(km__n_clusters=10, pca__n_components=5))"
   ]
  },
  {
   "cell_type": "code",
   "execution_count": null,
   "metadata": {},
   "outputs": [],
   "source": [
    "%%time\n",
    "#TODO -- grid_search_results is redundant with cust.params remove one\n",
    "grid_search_results = grid_search(azdias.dropna())\n",
    "grid_search_results['best_params']"
   ]
  },
  {
   "cell_type": "code",
   "execution_count": null,
   "metadata": {},
   "outputs": [],
   "source": [
    "# Investigate the variance accounted for by each principal component.\n",
    "pca.explained_variance_.round(2)"
   ]
  },
  {
   "cell_type": "code",
   "execution_count": null,
   "metadata": {
    "scrolled": true
   },
   "outputs": [],
   "source": [
    "%%time\n",
    "# Re-apply PCA to the data while selecting for number of components to retain.\n",
    "n_clust, n_comps = grid_search_results['best_params'].values()\n",
    "pca = PCA(n_components=n_comps)\n",
    "scaler = scale_features(azdias)\n",
    "pca = pca.fit(scaler.fit_transform(azdias))\n",
    "\n",
    "\"\"\"\n",
    "NOTE: This is already done via fit_model_pipe method.\n",
    "It runs the grid_search method\n",
    "\"\"\" \n",
    "print_src('fit_model_pipe')    \n"
   ]
  },
  {
   "cell_type": "markdown",
   "metadata": {},
   "source": [
    "### Discussion 2.2: Perform Dimensionality Reduction\n",
    "\n",
    "(Double-click this cell and replace this text with your own text, reporting your findings and decisions regarding dimensionality reduction. How many principal components / transformed features are you retaining for the next step of the analysis?)"
   ]
  },
  {
   "cell_type": "markdown",
   "metadata": {},
   "source": [
    "### Step 2.3: Interpret Principal Components\n",
    "\n",
    "Now that we have our transformed principal components, it's a nice idea to check out the weight of each variable on the first few components to see if they can be interpreted in some fashion.\n",
    "\n",
    "As a reminder, each principal component is a unit vector that points in the direction of highest variance (after accounting for the variance captured by earlier principal components). The further a weight is from zero, the more the principal component is in the direction of the corresponding feature. If two features have large weights of the same sign (both positive or both negative), then increases in one tend expect to be associated with increases in the other. To contrast, features with different signs can be expected to show a negative correlation: increases in one variable should result in a decrease in the other.\n",
    "\n",
    "- To investigate the features, you should map each weight to their corresponding feature name, then sort the features according to weight. The most interesting features for each principal component, then, will be those at the beginning and end of the sorted list. Use the data dictionary document to help you understand these most prominent features, their relationships, and what a positive or negative value on the principal component might indicate.\n",
    "- You should investigate and interpret feature associations from the first three principal components in this substep. To help facilitate this, you should write a function that you can call at any time to print the sorted list of feature weights, for the *i*-th principal component. This might come in handy in the next step of the project, when you interpret the tendencies of the discovered clusters."
   ]
  },
  {
   "cell_type": "code",
   "execution_count": null,
   "metadata": {},
   "outputs": [],
   "source": [
    "# Map weights for the first principal component to corresponding feature names\n",
    "# and then print the linked values, sorted by weight.\n",
    "# HINT: Try defining a function here or in a new cell that you can reuse in the\n",
    "# other cells.\n",
    "\n",
    "# cust.pca.fit(cust_df)\n",
    "sort_pca = lambda comp_num : [f'{i[0]}\\t{i[1]}'.expandtabs(30) \n",
    "                              for i in sorted(\n",
    "                                  {k:v for k,v in zip(azdias.columns, pca.components_[comp_num])}.items(),\n",
    "                                  key=lambda x: x[1]\n",
    "                              )]\n",
    "sep = '*'*60\n",
    "print(f'{sep}\\n<< FIRST PRINCIPLE COMPONENT VALUES >>\\n{sep}')\n",
    "sort_pca(0)"
   ]
  },
  {
   "cell_type": "code",
   "execution_count": null,
   "metadata": {},
   "outputs": [],
   "source": [
    "# Map weights for the second principal component to corresponding feature names\n",
    "# and then print the linked values, sorted by weight.\n",
    "print(f'{sep}\\n<< SECOND PRINCIPLE COMPONENT VALUES >>\\n{sep}')\n",
    "sort_pca(1)"
   ]
  },
  {
   "cell_type": "code",
   "execution_count": null,
   "metadata": {},
   "outputs": [],
   "source": [
    "# Map weights for the third principal component to corresponding feature names\n",
    "# and then print the linked values, sorted by weight.\n",
    "print(f'{sep}\\n<< THIRD PRINCIPLE COMPONENT VALUES >>\\n{sep}') \n",
    "sort_pca(2)"
   ]
  },
  {
   "cell_type": "code",
   "execution_count": null,
   "metadata": {},
   "outputs": [],
   "source": [
    "print(f'{sep}\\n<< FOURTH PRINCIPLE COMPONENT VALUES >>\\n{sep}') \n",
    "sort_pca(3)"
   ]
  },
  {
   "cell_type": "code",
   "execution_count": null,
   "metadata": {},
   "outputs": [],
   "source": [
    "print(f'{sep}\\n<< FIFTH PRINCIPLE COMPONENT VALUES >>\\n{sep}') \n",
    "sort_pca(4)"
   ]
  },
  {
   "cell_type": "markdown",
   "metadata": {},
   "source": [
    "### Discussion 2.3: Interpret Principal Components\n",
    "\n",
    "(Double-click this cell and replace this text with your own text, reporting your observations from detailed investigation of the first few principal components generated. Can we interpret positive and negative values from them in a meaningful way?)"
   ]
  },
  {
   "cell_type": "markdown",
   "metadata": {},
   "source": [
    "## Step 3: Clustering\n",
    "\n",
    "### Step 3.1: Apply Clustering to General Population\n",
    "\n",
    "You've assessed and cleaned the demographics data, then scaled and transformed them. Now, it's time to see how the data clusters in the principal components space. In this substep, you will apply k-means clustering to the dataset and use the average within-cluster distances from each point to their assigned cluster's centroid to decide on a number of clusters to keep.\n",
    "\n",
    "- Use sklearn's [KMeans](http://scikit-learn.org/stable/modules/generated/sklearn.cluster.KMeans.html#sklearn.cluster.KMeans) class to perform k-means clustering on the PCA-transformed data.\n",
    "- Then, compute the average difference from each point to its assigned cluster's center. **Hint**: The KMeans object's `.score()` method might be useful here, but note that in sklearn, scores tend to be defined so that larger is better. Try applying it to a small, toy dataset, or use an internet search to help your understanding.\n",
    "- Perform the above two steps for a number of different cluster counts. You can then see how the average distance decreases with an increasing number of clusters. However, each additional cluster provides a smaller net benefit. Use this fact to select a final number of clusters in which to group the data. **Warning**: because of the large size of the dataset, it can take a long time for the algorithm to resolve. The more clusters to fit, the longer the algorithm will take. You should test for cluster counts through at least 10 clusters to get the full picture, but you shouldn't need to test for a number of clusters above about 30.\n",
    "- Once you've selected a final number of clusters to use, re-fit a KMeans instance to perform the clustering operation. Make sure that you also obtain the cluster assignments for the general demographics data, since you'll be using them in the final Step 3.3."
   ]
  },
  {
   "cell_type": "code",
   "execution_count": 3,
   "metadata": {},
   "outputs": [
    {
     "name": "stdout",
     "output_type": "stream",
     "text": [
      "AGER_TYP\n",
      "ANREDE_KZ\n",
      "CJT_GESAMTTYP\n",
      "FINANZTYP\n",
      "GFK_URLAUBERTYP\n",
      "GREEN_AVANTGARDE\n",
      "LP_FAMILIE_FEIN\n",
      "LP_FAMILIE_GROB\n",
      "LP_STATUS_FEIN\n",
      "LP_STATUS_GROB\n",
      "NATIONALITAET_KZ\n",
      "SHOPPER_TYP\n",
      "SOHO_KZ\n",
      "TITEL_KZ\n",
      "VERS_TYP\n",
      "ZABEOTYP\n",
      "KK_KUNDENTYP\n",
      "GEBAEUDETYP\n",
      "OST_WEST_KZ\n",
      "CAMEO_DEUG_2015\n",
      "CAMEO_DEU_2015\n"
     ]
    }
   ],
   "source": [
    "grid_search_results = dict(best_params=dict(km__n_clusters=10, pca__n_components=5))\n",
    "azdias = clean_data(pd.read_csv('Udacity_AZDIAS_Subset.csv', ';'))"
   ]
  },
  {
   "cell_type": "code",
   "execution_count": 4,
   "metadata": {
    "scrolled": true
   },
   "outputs": [
    {
     "data": {
      "text/html": [
       "<div>\n",
       "<style scoped>\n",
       "    .dataframe tbody tr th:only-of-type {\n",
       "        vertical-align: middle;\n",
       "    }\n",
       "\n",
       "    .dataframe tbody tr th {\n",
       "        vertical-align: top;\n",
       "    }\n",
       "\n",
       "    .dataframe thead th {\n",
       "        text-align: right;\n",
       "    }\n",
       "</style>\n",
       "<table border=\"1\" class=\"dataframe\">\n",
       "  <thead>\n",
       "    <tr style=\"text-align: right;\">\n",
       "      <th></th>\n",
       "      <th>n_clusters</th>\n",
       "      <th>score</th>\n",
       "    </tr>\n",
       "  </thead>\n",
       "  <tbody>\n",
       "    <tr>\n",
       "      <th>0</th>\n",
       "      <td>1</td>\n",
       "      <td>9.622322e+09</td>\n",
       "    </tr>\n",
       "    <tr>\n",
       "      <th>1</th>\n",
       "      <td>2</td>\n",
       "      <td>9.414921e+09</td>\n",
       "    </tr>\n",
       "    <tr>\n",
       "      <th>2</th>\n",
       "      <td>3</td>\n",
       "      <td>9.396483e+09</td>\n",
       "    </tr>\n",
       "    <tr>\n",
       "      <th>3</th>\n",
       "      <td>4</td>\n",
       "      <td>9.412520e+09</td>\n",
       "    </tr>\n",
       "    <tr>\n",
       "      <th>4</th>\n",
       "      <td>5</td>\n",
       "      <td>9.398848e+09</td>\n",
       "    </tr>\n",
       "    <tr>\n",
       "      <th>5</th>\n",
       "      <td>6</td>\n",
       "      <td>9.402274e+09</td>\n",
       "    </tr>\n",
       "    <tr>\n",
       "      <th>6</th>\n",
       "      <td>7</td>\n",
       "      <td>9.398583e+09</td>\n",
       "    </tr>\n",
       "    <tr>\n",
       "      <th>7</th>\n",
       "      <td>8</td>\n",
       "      <td>9.394332e+09</td>\n",
       "    </tr>\n",
       "    <tr>\n",
       "      <th>8</th>\n",
       "      <td>9</td>\n",
       "      <td>9.282758e+09</td>\n",
       "    </tr>\n",
       "    <tr>\n",
       "      <th>9</th>\n",
       "      <td>10</td>\n",
       "      <td>9.311627e+09</td>\n",
       "    </tr>\n",
       "    <tr>\n",
       "      <th>10</th>\n",
       "      <td>11</td>\n",
       "      <td>9.343297e+09</td>\n",
       "    </tr>\n",
       "    <tr>\n",
       "      <th>11</th>\n",
       "      <td>12</td>\n",
       "      <td>9.326504e+09</td>\n",
       "    </tr>\n",
       "    <tr>\n",
       "      <th>12</th>\n",
       "      <td>13</td>\n",
       "      <td>9.320631e+09</td>\n",
       "    </tr>\n",
       "    <tr>\n",
       "      <th>13</th>\n",
       "      <td>14</td>\n",
       "      <td>9.323564e+09</td>\n",
       "    </tr>\n",
       "    <tr>\n",
       "      <th>14</th>\n",
       "      <td>15</td>\n",
       "      <td>9.302172e+09</td>\n",
       "    </tr>\n",
       "    <tr>\n",
       "      <th>15</th>\n",
       "      <td>16</td>\n",
       "      <td>9.231655e+09</td>\n",
       "    </tr>\n",
       "    <tr>\n",
       "      <th>16</th>\n",
       "      <td>17</td>\n",
       "      <td>9.236884e+09</td>\n",
       "    </tr>\n",
       "    <tr>\n",
       "      <th>17</th>\n",
       "      <td>18</td>\n",
       "      <td>9.239802e+09</td>\n",
       "    </tr>\n",
       "    <tr>\n",
       "      <th>18</th>\n",
       "      <td>19</td>\n",
       "      <td>9.230110e+09</td>\n",
       "    </tr>\n",
       "    <tr>\n",
       "      <th>19</th>\n",
       "      <td>20</td>\n",
       "      <td>9.215087e+09</td>\n",
       "    </tr>\n",
       "    <tr>\n",
       "      <th>20</th>\n",
       "      <td>21</td>\n",
       "      <td>9.222509e+09</td>\n",
       "    </tr>\n",
       "    <tr>\n",
       "      <th>21</th>\n",
       "      <td>22</td>\n",
       "      <td>9.216850e+09</td>\n",
       "    </tr>\n",
       "    <tr>\n",
       "      <th>22</th>\n",
       "      <td>23</td>\n",
       "      <td>9.228911e+09</td>\n",
       "    </tr>\n",
       "    <tr>\n",
       "      <th>23</th>\n",
       "      <td>24</td>\n",
       "      <td>9.226425e+09</td>\n",
       "    </tr>\n",
       "  </tbody>\n",
       "</table>\n",
       "</div>"
      ],
      "text/plain": [
       "    n_clusters         score\n",
       "0            1  9.622322e+09\n",
       "1            2  9.414921e+09\n",
       "2            3  9.396483e+09\n",
       "3            4  9.412520e+09\n",
       "4            5  9.398848e+09\n",
       "5            6  9.402274e+09\n",
       "6            7  9.398583e+09\n",
       "7            8  9.394332e+09\n",
       "8            9  9.282758e+09\n",
       "9           10  9.311627e+09\n",
       "10          11  9.343297e+09\n",
       "11          12  9.326504e+09\n",
       "12          13  9.320631e+09\n",
       "13          14  9.323564e+09\n",
       "14          15  9.302172e+09\n",
       "15          16  9.231655e+09\n",
       "16          17  9.236884e+09\n",
       "17          18  9.239802e+09\n",
       "18          19  9.230110e+09\n",
       "19          20  9.215087e+09\n",
       "20          21  9.222509e+09\n",
       "21          22  9.216850e+09\n",
       "22          23  9.228911e+09\n",
       "23          24  9.226425e+09"
      ]
     },
     "metadata": {},
     "output_type": "display_data"
    },
    {
     "name": "stdout",
     "output_type": "stream",
     "text": [
      "CPU times: user 19min 15s, sys: 3min 11s, total: 22min 27s\n",
      "Wall time: 15min 16s\n"
     ]
    }
   ],
   "source": [
    "%%time\n",
    "\"\"\"\n",
    "Over a number of different cluster counts...\n",
    "Compute the average within-cluster distances.\n",
    "Run k-means clustering on the data and...\n",
    "\"\"\"\n",
    "\n",
    "#FRESH SETUP\n",
    "# azdias = pd.read_csv('Udacity_CUSTOMERS_Subset.csv', ';')\n",
    "# azdias_kms = KMSegmenter(azdias)\n",
    "# azdias = azdias_kms.clean_data(azdias)\n",
    "# azdias = azdias._to_pandas()\n",
    "\n",
    "pca_n_comps = grid_search_results['best_params']['pca__n_components']\n",
    "scaled = scale_features(azdias).fit_transform(azdias)\n",
    "scores = pd.DataFrame([(n_clusters, \n",
    "                        np.abs(get_set_pipe(df=azdias, params=dict(\n",
    "                                            pca__n_components=pca_n_comps, \n",
    "                                            km__n_clusters=n_clusters))\n",
    "                               .fit(scaled) #.steps[2][1].inertia_\n",
    "                               .score(azdias))) \n",
    "        for n_clusters in range(1, 25)],\n",
    "    columns=['n_clusters', 'score'])\n",
    "display(scores)"
   ]
  },
  {
   "cell_type": "code",
   "execution_count": 5,
   "metadata": {},
   "outputs": [
    {
     "data": {
      "image/png": "[encoded data removed]",
      "text/plain": [
       "<Figure size 1152x576 with 1 Axes>"
      ]
     },
     "metadata": {
      "needs_background": "light"
     },
     "output_type": "display_data"
    }
   ],
   "source": [
    "# Investigate the change in within-cluster distance across number of clusters.\n",
    "# HINT: Use matplotlib's plot function to visualize this relationship.\n",
    "\n",
    "# Example taken from: https://predictivehacks.com/k-means-elbow-method-code-for-python/\n",
    "plt.figure(figsize=(16,8))\n",
    "plt.plot(list(scores.n_clusters), scores.score, 'bx-')\n",
    "plt.xlabel('k')\n",
    "plt.ylabel('Distortion')\n",
    "plt.title('The Elbow Method showing the optimal k')\n",
    "plt.show()\n"
   ]
  },
  {
   "cell_type": "code",
   "execution_count": 7,
   "metadata": {},
   "outputs": [
    {
     "data": {
      "text/plain": [
       "10"
      ]
     },
     "execution_count": 7,
     "metadata": {},
     "output_type": "execute_result"
    }
   ],
   "source": [
    "grid_search_results['best_params']['km__n_clusters']"
   ]
  },
  {
   "cell_type": "code",
   "execution_count": 8,
   "metadata": {
    "scrolled": true
   },
   "outputs": [],
   "source": [
    "# Re-fit the k-means model with the selected number of clusters and obtain\n",
    "# cluster predictions for the general population demographics data.\n",
    "\n",
    "\"\"\"\n",
    "NOTE: My previous Grid Search results show that N_CLUSTERS should be 10. \n",
    "So I'll use that.\n",
    "\"\"\"\n",
    "gmodel = fit_model_pipe(azdias, params=dict(km__n_clusters=10, pca__n_components=5))\n",
    "# azdias['predicted_cluster'] = gmodel.predict(azdias)\n",
    "# azdias.head()\n",
    "scaled = scale_features(azdias).fit_transform(azdias)\n",
    "# gmodel.predict(pca.fit_transform(scaled))\n",
    "gpreds = gmodel.predict(azdias)"
   ]
  },
  {
   "cell_type": "code",
   "execution_count": 9,
   "metadata": {},
   "outputs": [],
   "source": [
    "pickle.dump(gmodel, open(\"general_model.pkl\", \"wb\"))"
   ]
  },
  {
   "cell_type": "markdown",
   "metadata": {},
   "source": [
    "### Discussion 3.1: Apply Clustering to General Population\n",
    "\n",
    "(Double-click this cell and replace this text with your own text, reporting your findings and decisions regarding clustering. Into how many clusters have you decided to segment the population?)"
   ]
  },
  {
   "cell_type": "code",
   "execution_count": 10,
   "metadata": {},
   "outputs": [
    {
     "data": {
      "text/plain": [
       "StandardScaler(copy=True, with_mean=True, with_std=True)"
      ]
     },
     "execution_count": 10,
     "metadata": {},
     "output_type": "execute_result"
    }
   ],
   "source": [
    "scale_features(azdias)"
   ]
  },
  {
   "cell_type": "markdown",
   "metadata": {},
   "source": [
    "### Step 3.2: Apply All Steps to the Customer Data\n",
    "\n",
    "Now that you have clusters and cluster centers for the general population, it's time to see how the customer data maps on to those clusters. Take care to not confuse this for re-fitting all of the models to the customer data. Instead, you're going to use the fits from the general population to clean, transform, and cluster the customer data. In the last step of the project, you will interpret how the general population fits apply to the customer data.\n",
    "\n",
    "- Don't forget when loading in the customers data, that it is semicolon (`;`) delimited.\n",
    "- Apply the same feature wrangling, selection, and engineering steps to the customer demographics using the `clean_data()` function you created earlier. (You can assume that the customer demographics data has similar meaning behind missing data patterns as the general demographics data.)\n",
    "- Use the sklearn objects from the general demographics data, and apply their transformations to the customers data. That is, you should not be using a `.fit()` or `.fit_transform()` method to re-fit the old objects, nor should you be creating new sklearn objects! Carry the data through the feature scaling, PCA, and clustering steps, obtaining cluster assignments for all of the data in the customer demographics data."
   ]
  },
  {
   "cell_type": "code",
   "execution_count": 18,
   "metadata": {},
   "outputs": [
    {
     "name": "stdout",
     "output_type": "stream",
     "text": [
      "AGER_TYP\n",
      "ANREDE_KZ\n",
      "CJT_GESAMTTYP\n",
      "FINANZTYP\n",
      "GFK_URLAUBERTYP\n",
      "GREEN_AVANTGARDE\n",
      "LP_FAMILIE_FEIN\n",
      "LP_FAMILIE_GROB\n",
      "LP_STATUS_FEIN\n",
      "LP_STATUS_GROB\n",
      "NATIONALITAET_KZ\n",
      "SHOPPER_TYP\n",
      "SOHO_KZ\n",
      "TITEL_KZ\n",
      "VERS_TYP\n",
      "ZABEOTYP\n",
      "KK_KUNDENTYP\n",
      "GEBAEUDETYP\n",
      "OST_WEST_KZ\n",
      "CAMEO_DEUG_2015\n",
      "CAMEO_DEU_2015\n",
      "PRAEGENDE_JUGENDJAHRE not present in the dataframe\n",
      "CAMEO_INTL_2015 not present in the dataframe\n",
      "OST_WEST_KZ not present in the dataframe\n",
      "CAMEO_DEU_2015 not present in the dataframe\n"
     ]
    }
   ],
   "source": [
    "# Load in the customer demographics data.\n",
    "customers = pd.read_csv('Udacity_CUSTOMERS_Subset.csv', sep=';')\n",
    "customers = clean_data(customers)\n",
    "customers = fix_columns(customers, azdias.columns.tolist())"
   ]
  },
  {
   "cell_type": "code",
   "execution_count": 20,
   "metadata": {
    "scrolled": true
   },
   "outputs": [
    {
     "name": "stdout",
     "output_type": "stream",
     "text": [
      "CPU times: user 13 s, sys: 2.91 s, total: 16 s\n",
      "Wall time: 12.8 s\n"
     ]
    }
   ],
   "source": [
    "%%time\n",
    "# Apply preprocessing, feature transformation, and clustering from the general\n",
    "# demographics onto the customer data, obtaining cluster predictions for the\n",
    "# customer demographics data.\n",
    "pca__n_components = grid_search_results['best_params']['pca__n_components']\n",
    "\n",
    "scaled_feats = scale_features(customers).fit_transform(customers)\n",
    "customer_pca = PCA(n_components=pca__n_components).fit_transform(scaled_feats)\n",
    "cpreds = gmodel.predict(customers)\n",
    "# cpreds = gmodel.predict(customer_pca)"
   ]
  },
  {
   "cell_type": "code",
   "execution_count": 21,
   "metadata": {},
   "outputs": [
    {
     "name": "stdout",
     "output_type": "stream",
     "text": [
      "CPU times: user 3 µs, sys: 0 ns, total: 3 µs\n",
      "Wall time: 5.96 µs\n"
     ]
    }
   ],
   "source": [
    "%%time\n",
    "# customers = customers._to_pandas()\n",
    "# cust_pca = PCA()\n",
    "# cust_scaler = scale_features(customers)\n",
    "# cust_pca.fit(cust_scaler)\n",
    "# customers['predicted_cluster'] = gmodel.predict(cust_pca)"
   ]
  },
  {
   "cell_type": "code",
   "execution_count": 22,
   "metadata": {},
   "outputs": [],
   "source": [
    "azdias['predicted_cluster'] = gpreds\n",
    "customers['predicted_cluster'] =  cpreds"
   ]
  },
  {
   "cell_type": "markdown",
   "metadata": {},
   "source": [
    "### Step 3.3: Compare Customer Data to Demographics Data\n",
    "\n",
    "At this point, you have clustered data based on demographics of the general population of Germany, and seen how the customer data for a mail-order sales company maps onto those demographic clusters. In this final substep, you will compare the two cluster distributions to see where the strongest customer base for the company is.\n",
    "\n",
    "Consider the proportion of persons in each cluster for the general population, and the proportions for the customers. If we think the company's customer base to be universal, then the cluster assignment proportions should be fairly similar between the two. If there are only particular segments of the population that are interested in the company's products, then we should see a mismatch from one to the other. If there is a higher proportion of persons in a cluster for the customer data compared to the general population (e.g. 5% of persons are assigned to a cluster for the general population, but 15% of the customer data is closest to that cluster's centroid) then that suggests the people in that cluster to be a target audience for the company. On the other hand, the proportion of the data in a cluster being larger in the general population than the customer data (e.g. only 2% of customers closest to a population centroid that captures 6% of the data) suggests that group of persons to be outside of the target demographics.\n",
    "\n",
    "Take a look at the following points in this step:\n",
    "\n",
    "- Compute the proportion of data points in each cluster for the general population and the customer data. Visualizations will be useful here: both for the individual dataset proportions, but also to visualize the ratios in cluster representation between groups. Seaborn's [`countplot()`](https://seaborn.pydata.org/generated/seaborn.countplot.html) or [`barplot()`](https://seaborn.pydata.org/generated/seaborn.barplot.html) function could be handy.\n",
    "  - Recall the analysis you performed in step 1.1.3 of the project, where you separated out certain data points from the dataset if they had more than a specified threshold of missing values. If you found that this group was qualitatively different from the main bulk of the data, you should treat this as an additional data cluster in this analysis. Make sure that you account for the number of data points in this subset, for both the general population and customer datasets, when making your computations!\n",
    "- Which cluster or clusters are overrepresented in the customer dataset compared to the general population? Select at least one such cluster and infer what kind of people might be represented by that cluster. Use the principal component interpretations from step 2.3 or look at additional components to help you make this inference. Alternatively, you can use the `.inverse_transform()` method of the PCA and StandardScaler objects to transform centroids back to the original data space and interpret the retrieved values directly.\n",
    "- Perform a similar investigation for the underrepresented clusters. Which cluster or clusters are underrepresented in the customer dataset compared to the general population, and what kinds of people are typified by these clusters?"
   ]
  },
  {
   "cell_type": "code",
   "execution_count": 23,
   "metadata": {},
   "outputs": [
    {
     "data": {
      "text/plain": [
       "8    185289\n",
       "7        42\n",
       "dtype: int64"
      ]
     },
     "metadata": {},
     "output_type": "display_data"
    },
    {
     "data": {
      "text/plain": [
       "8    40024\n",
       "2    35985\n",
       "3    34359\n",
       "7    33017\n",
       "5    32204\n",
       "1    30867\n",
       "9    30570\n",
       "6    30181\n",
       "4    26991\n",
       "0    24323\n",
       "dtype: int64"
      ]
     },
     "metadata": {},
     "output_type": "display_data"
    }
   ],
   "source": [
    "idisplay(customers.predicted_cluster.value_counts())\n",
    "idisplay(azdias.predicted_cluster.value_counts())"
   ]
  },
  {
   "cell_type": "code",
   "execution_count": 24,
   "metadata": {},
   "outputs": [
    {
     "data": {
      "text/plain": [
       "<matplotlib.axes._subplots.AxesSubplot at 0x37efd1990>"
      ]
     },
     "execution_count": 24,
     "metadata": {},
     "output_type": "execute_result"
    },
    {
     "data": {
      "image/png": "[encoded data removed]",
      "text/plain": [
       "<Figure size 1008x720 with 1 Axes>"
      ]
     },
     "metadata": {
      "needs_background": "light"
     },
     "output_type": "display_data"
    }
   ],
   "source": [
    "# Compare the proportion of data in each cluster for the customer data to the\n",
    "# proportion of data in each cluster for the general population.\n",
    "\n",
    "clusters_df = azdias.predicted_cluster.value_counts().reset_index().merge(\n",
    "    customers.predicted_cluster.value_counts().reset_index(),\n",
    "    how='inner', on='index')\n",
    "\n",
    "clusters_df.columns=['cluster_no', 'general_proportion', 'customer_proportion']\n",
    "clusters_df.general_proportion = clusters_df.general_proportion / len(azdias)\n",
    "clusters_df.customer_proportion = clusters_df.customer_proportion / len(customers)\n",
    "clusters_df = clusters_df.sort_values(by='cluster_no')\n",
    "clusters_df.plot(x='cluster_no', y=['general_proportion','customer_proportion'], kind='bar', figsize=(14,10))"
   ]
  },
  {
   "cell_type": "code",
   "execution_count": 25,
   "metadata": {},
   "outputs": [
    {
     "data": {
      "text/plain": [
       "array([[<matplotlib.axes._subplots.AxesSubplot object at 0x37d06cfd0>,\n",
       "        <matplotlib.axes._subplots.AxesSubplot object at 0x37d38c710>],\n",
       "       [<matplotlib.axes._subplots.AxesSubplot object at 0x38307b1d0>,\n",
       "        <matplotlib.axes._subplots.AxesSubplot object at 0x1093f6950>]],\n",
       "      dtype=object)"
      ]
     },
     "execution_count": 25,
     "metadata": {},
     "output_type": "execute_result"
    },
    {
     "data": {
      "image/png": "[encoded data removed]",
      "text/plain": [
       "<Figure size 432x288 with 4 Axes>"
      ]
     },
     "metadata": {
      "needs_background": "light"
     },
     "output_type": "display_data"
    }
   ],
   "source": [
    "clusters_df.head().hist() #x='cluster_no', y=['general_proportion', 'customer_proportion']"
   ]
  },
  {
   "cell_type": "code",
   "execution_count": null,
   "metadata": {},
   "outputs": [],
   "source": [
    "# What kinds of people are part of a cluster that is overrepresented in the\n",
    "# customer data compared to the general population?\n",
    "customers[customers.predicted_cluster == 1].head()  "
   ]
  },
  {
   "cell_type": "code",
   "execution_count": null,
   "metadata": {},
   "outputs": [],
   "source": [
    "#Taken from Unsupervised Lesson 4\n",
    "def do_pca(n_components, data):\n",
    "    X = StandardScaler().fit_transform(data)\n",
    "    pca = PCA(n_components)\n",
    "    X_pca = pca.fit_transform(X)\n",
    "    return pca, X_pca\n",
    "\n",
    "def scree_plot(pca):\n",
    "    num_components = len(pca.explained_variance_ratio_)\n",
    "    ind = np.arange(num_components)\n",
    "    vals = pca.explained_variance_ratio_\n",
    " \n",
    "    plt.figure(figsize=(10, 6))\n",
    "    ax = plt.subplot(111)\n",
    "    cumvals = np.cumsum(vals)\n",
    "    ax.bar(ind, vals)\n",
    "    ax.plot(ind, cumvals)\n",
    "    for i in range(num_components):\n",
    "        ax.annotate(r\"%s%%\" % ((str(vals[i]*100)[:4])), (ind[i]+0.2, vals[i]), va=\"bottom\", ha=\"center\", fontsize=12)\n",
    " \n",
    "    ax.xaxis.set_tick_params(width=0)\n",
    "    ax.yaxis.set_tick_params(width=2, length=12)\n",
    " \n",
    "    ax.set_xlabel(\"Principal Component\")\n",
    "    ax.set_ylabel(\"Variance Explained (%)\")\n",
    "    plt.title('Explained Variance Per Principal Component')\n",
    "    \n",
    "\n",
    "# pca, X_pca = do_pca (n_components=10, data=customers)\n",
    "pca, X_pca = do_pca (n_components=10, data=azdias)\n",
    "scree_plot(pca)"
   ]
  },
  {
   "cell_type": "code",
   "execution_count": null,
   "metadata": {},
   "outputs": [],
   "source": [
    "# pd.DataFrame.from_dict(dict(zip(customers.columns,\n",
    "#     pca.inverse_transform(cust_kms.km.cluster_centers_[14]))), orient='index').rename(\n",
    "# columns={0: 'feature_values'}).sort_values('feature_values', ascending=False)zΩ"
   ]
  },
  {
   "cell_type": "code",
   "execution_count": null,
   "metadata": {},
   "outputs": [],
   "source": [
    "#Taken from Unsupervised Lesson 4\n",
    "def pca_results(full_dataset, pca):\n",
    "\t# Dimension indexing\n",
    "\tdimensions = dimensions = ['Dimension {}'.format(i) for i in range(1,len(pca.components_)+1)]\n",
    "\n",
    "\t# PCA components\n",
    "\tcomponents = pd.DataFrame(np.round(pca.components_, 4), columns = full_dataset.keys())\n",
    "\tcomponents.index = dimensions\n",
    "\n",
    "\t# PCA explained variance\n",
    "\tratios = pca.explained_variance_ratio_.reshape(len(pca.components_), 1)\n",
    "\tvariance_ratios = pd.DataFrame(np.round(ratios, 4), columns = ['Explained Variance'])\n",
    "\tvariance_ratios.index = dimensions\n",
    "\n",
    "\t# Create a bar plot visualization\n",
    "\tfig, ax = plt.subplots(figsize = (20,14))\n",
    "\n",
    "\t# Plot the feature weights as a function of the components\n",
    "\tcomponents.plot(ax = ax, kind = 'bar');\n",
    "\tax.set_ylabel(\"Feature Weights\")\n",
    "\tax.set_xticklabels(dimensions, rotation=0)\n",
    "\n",
    "\n",
    "\t# Display the explained variance ratios\n",
    "\tfor i, ev in enumerate(pca.explained_variance_ratio_):\n",
    "\t\tax.text(i-0.40, ax.get_ylim()[1] + 0.05, \"Explained Variance\\n          %.4f\"%(ev))\n",
    "\n",
    "\t# Return a concatenated DataFrame\n",
    "\treturn pd.concat([variance_ratios, components], axis = 1)\n",
    "\n",
    "pca_results(azdias, pca)"
   ]
  },
  {
   "cell_type": "code",
   "execution_count": null,
   "metadata": {},
   "outputs": [],
   "source": [
    "def do_pca(n_components, data):\n",
    "    X = StandardScaler().fit_transform(data)\n",
    "    pca = PCA(n_components)\n",
    "    X_pca = pca.fit_transform(X)\n",
    "    return pca, X_pca\n",
    "\n",
    "def pca_results(full_dataset, pca):\n",
    "\t# Dimension indexing\n",
    "\tdimensions = dimensions = ['Dimension {}'.format(i) for i in range(1,len(pca.components_)+1)]\n",
    "\n",
    "\t# PCA components\n",
    "\tcomponents = pd.DataFrame(np.round(pca.components_, 4), columns = full_dataset.keys())\n",
    "\tcomponents.index = dimensions\n",
    "\n",
    "\t# PCA explained variance\n",
    "\tratios = pca.explained_variance_ratio_.reshape(len(pca.components_), 1)\n",
    "\tvariance_ratios = pd.DataFrame(np.round(ratios, 4), columns = ['Explained Variance'])\n",
    "\tvariance_ratios.index = dimensions\n",
    "\n",
    "\t# Return a concatenated DataFrame\n",
    "\treturn pd.concat([variance_ratios, components], axis = 1)\n",
    "\n",
    "cpca, cX_pca = do_pca (n_components=10, data=customers)\n",
    "apca, aX_pca = do_pca (n_components=10, data=azdias)"
   ]
  },
  {
   "cell_type": "code",
   "execution_count": null,
   "metadata": {},
   "outputs": [],
   "source": [
    "c = pca_results(customers, cpca).loc[\"Dimension 1\"].reset_index()\n",
    "a = pca_results(azdias, apca).loc[\"Dimension 1\"].reset_index()\n",
    "a.columns = ['Features', 'Dimension 1(General)']\n",
    "c.columns = ['Features', 'Dimension 1(Customer)']\n",
    "dim1 = pd.merge(a, c, on='Features')._to_pandas()\n",
    "dim1 = dim1.drop(0, axis=0)\n",
    "dim1 = dim1.drop(max(dim1.index), axis=0)\n",
    "del a, c\n",
    "# dim1[np.abs(dim1['Dimension 1(General)'] - dim1['Dimension 1(Customer)']) > .02]\n",
    "dim1['absolute_diff'] = np.abs(dim1['Dimension 1(General)'] - dim1['Dimension 1(Customer)'])\n",
    "dim1\n",
    "#TODO: Make graph to compare ifferences"
   ]
  },
  {
   "cell_type": "code",
   "execution_count": null,
   "metadata": {},
   "outputs": [],
   "source": [
    "# What kinds of people are part of a cluster that is underrepresented in the\n",
    "# customer data compared to the general population?\n"
   ]
  },
  {
   "cell_type": "code",
   "execution_count": null,
   "metadata": {},
   "outputs": [],
   "source": [
    "# cpca = cust_kms.pipe[1].fit_transform(_)"
   ]
  },
  {
   "cell_type": "code",
   "execution_count": null,
   "metadata": {},
   "outputs": [],
   "source": []
  },
  {
   "cell_type": "markdown",
   "metadata": {},
   "source": [
    "### Discussion 3.3: Compare Customer Data to Demographics Data\n",
    "\n",
    "(Double-click this cell and replace this text with your own text, reporting findings and conclusions from the clustering analysis. Can we describe segments of the population that are relatively popular with the mail-order company, or relatively unpopular with the company?)"
   ]
  },
  {
   "cell_type": "markdown",
   "metadata": {},
   "source": [
    "> Congratulations on making it this far in the project! Before you finish, make sure to check through the entire notebook from top to bottom to make sure that your analysis follows a logical flow and all of your findings are documented in **Discussion** cells. Once you've checked over all of your work, you should export the notebook as an HTML document to submit for evaluation. You can do this from the menu, navigating to **File -> Download as -> HTML (.html)**. You will submit both that document and this notebook for your project submission."
   ]
  },
  {
   "cell_type": "code",
   "execution_count": null,
   "metadata": {},
   "outputs": [],
   "source": []
  },
  {
   "cell_type": "code",
   "execution_count": null,
   "metadata": {},
   "outputs": [],
   "source": []
  }
 ],
 "metadata": {
  "kernelspec": {
   "display_name": "Python 3",
   "language": "python",
   "name": "python3"
  },
  "language_info": {
   "codemirror_mode": {
    "name": "ipython",
    "version": 3
   },
   "file_extension": ".py",
   "mimetype": "text/x-python",
   "name": "python",
   "nbconvert_exporter": "python",
   "pygments_lexer": "ipython3",
   "version": "3.7.4"
  }
 },
 "nbformat": 4,
 "nbformat_minor": 4
}
