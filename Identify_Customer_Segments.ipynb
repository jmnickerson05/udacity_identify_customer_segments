{
 "cells": [
  {
   "cell_type": "markdown",
   "metadata": {},
   "source": [
    "# Project: Identify Customer Segments\n",
    "\n",
    "In this project, you will apply unsupervised learning techniques to identify segments of the population that form the core customer base for a mail-order sales company in Germany. These segments can then be used to direct marketing campaigns towards audiences that will have the highest expected rate of returns. The data that you will use has been provided by our partners at Bertelsmann Arvato Analytics, and represents a real-life data science task.\n",
    "\n",
    "This notebook will help you complete this task by providing a framework within which you will perform your analysis steps. In each step of the project, you will see some text describing the subtask that you will perform, followed by one or more code cells for you to complete your work. **Feel free to add additional code and markdown cells as you go along so that you can explore everything in precise chunks.** The code cells provided in the base template will outline only the major tasks, and will usually not be enough to cover all of the minor tasks that comprise it.\n",
    "\n",
    "It should be noted that while there will be precise guidelines on how you should handle certain tasks in the project, there will also be places where an exact specification is not provided. **There will be times in the project where you will need to make and justify your own decisions on how to treat the data.** These are places where there may not be only one way to handle the data. In real-life tasks, there may be many valid ways to approach an analysis task. One of the most important things you can do is clearly document your approach so that other scientists can understand the decisions you've made.\n",
    "\n",
    "At the end of most sections, there will be a Markdown cell labeled **Discussion**. In these cells, you will report your findings for the completed section, as well as document the decisions that you made in your approach to each subtask. **Your project will be evaluated not just on the code used to complete the tasks outlined, but also your communication about your observations and conclusions at each stage.**"
   ]
  },
  {
   "cell_type": "code",
   "execution_count": null,
   "metadata": {},
   "outputs": [],
   "source": [
    "%%capture\n",
    "%pip install --user missingno\n",
    "%pip install --user modin[all]"
   ]
  },
  {
   "cell_type": "code",
   "execution_count": null,
   "metadata": {},
   "outputs": [],
   "source": [
    "# import libraries here; add more as necessary\n",
    "import numpy as np\n",
    "# import pandas as pd\n",
    "import os\n",
    "# os.environ[\"MODIN_ENGINE\"] = \"ray\"\n",
    "os.environ[\"MODIN_ENGINE\"] = \"dask\"\n",
    "import modin.pandas as pd\n",
    "import pickle\n",
    "import matplotlib.pyplot as plt\n",
    "import seaborn as sns\n",
    "import missingno as msno\n",
    "import warnings\n",
    "from sklearn.compose import ColumnTransformer\n",
    "from sklearn.pipeline import Pipeline\n",
    "from sklearn.preprocessing import OrdinalEncoder, OneHotEncoder, KBinsDiscretizer, StandardScaler\n",
    "from sklearn.impute import SimpleImputer\n",
    "from sklearn.cluster import KMeans\n",
    "from sklearn.model_selection import GridSearchCV\n",
    "from sklearn.decomposition import PCA\n",
    "import inspect\n",
    "import seaborn as sns\n",
    "from IPython.display import display as idisplay\n",
    "# import sys, traceback\n",
    "from pprint import pprint\n",
    "%matplotlib inline\n",
    "\n",
    "display = lambda df: idisplay((df._to_pandas() if 'modin.pandas' in str(type(df)) else df))\n",
    "warnings.filterwarnings(\"ignore\")\n",
    "pd.set_option(\"display.max_rows\", None, \"display.max_columns\", None)\n",
    "\n",
    "feat_info = pd.read_csv('AZDIAS_Feature_Summary.csv', sep=';')\n",
    "\n",
    "def categorize_binary_features(cleaned_df):\n",
    "    \"\"\"\n",
    "    NOTE: If the dataframe hasn't been scrubbed of encoded \"nulls\"\n",
    "    then this will miscategorize binary variables.\n",
    "    \"\"\"\n",
    "    feat_info.loc[feat_info.attribute.isin(\n",
    "        [c for c in list(cleaned_df) if cleaned_df[c].nunique() == 2]), 'type'] = 'binary'\n",
    "    \n",
    "    return cleaned_df\n",
    "\n",
    "\n",
    "def cols_by_type(type_name, subset_of_columns=None):\n",
    "    if not subset_of_columns:\n",
    "        cols = feat_info.attribute.tolist()\n",
    "    else:\n",
    "        cols = subset_of_columns\n",
    "\n",
    "    return [col for col in feat_info[feat_info.type == type_name].attribute.tolist()\n",
    "            if col in cols]\n",
    "\n",
    "def print_types():\n",
    "    sep = '*' * 15\n",
    "    pprint({f'{sep} << {t} >> {sep}': cols_by_type(t) for t in feat_info.type.unique()})\n",
    "\n",
    "\n",
    "def __to_pd(df):\n",
    "    return df._to_pandas() if 'modin.pandas' in str(type(df)) else df\n",
    "\n",
    "def engineer_new_features(df):\n",
    "    try:\n",
    "        df['PRAEGENDE_JUGENDJAHRE'] = df['PRAEGENDE_JUGENDJAHRE'].map(\n",
    "            {1: 1, 2: 1, 3: 2, 4: 2, 5: 3, 6: 3, 7: 3, 8: 4,\n",
    "             9: 4, 0: 5, 1: 5, 2: 5, 3: 5, 4: 6, 5: 6, })\n",
    "    except KeyError:\n",
    "        print('PRAEGENDE_JUGENDJAHRE not present in the dataframe')\n",
    "\n",
    "    try:\n",
    "        df['CAMEO_INTL_2015_1'] = df['CAMEO_INTL_2015'].str.slice(start=0, stop=1).astype('float64')\n",
    "        df['CAMEO_INTL_2015_2'] = df['CAMEO_INTL_2015'].str.slice(start=1, stop=2).astype('float64')\n",
    "        df = df.drop('CAMEO_INTL_2015', axis=1)\n",
    "    except KeyError:\n",
    "        print('CAMEO_INTL_2015 not present in the dataframe')\n",
    "\n",
    "    try:\n",
    "        df.OST_WEST_KZ = df['OST_WEST_KZ'].map({'O':0.0, 'W':1.0})\n",
    "    except KeyError:\n",
    "        print('OST_WEST_KZ not present in the dataframe')\n",
    "    \n",
    "    try: \n",
    "        df.CAMEO_DEUG_2015 = df['CAMEO_DEUG_2015'].astype('float')\n",
    "    except (ValueError, KeyError):\n",
    "        print('CAMEO_DEUG_2015 not present in the dataframe')    \n",
    "        \n",
    "    try: \n",
    "        df = df.drop('CAMEO_DEU_2015', axis=1)\n",
    "    except (ValueError, KeyError):\n",
    "        print('CAMEO_DEU_2015 not present in the dataframe')\n",
    "        \n",
    "    return df\n",
    "\n",
    "def decode_nans(df):\n",
    "    feat_info.missing_or_unknown = feat_info.missing_or_unknown.str.strip('[]').str.split(',')\n",
    "    missing_vals = {feat[0]: feat[1]\n",
    "                    for feat in feat_info[['attribute', 'missing_or_unknown']].values.tolist()}\n",
    "\n",
    "    ## FILL IN MISSING DATA ACCORDING TO FEATURE INFO DATA\n",
    "    for c in df.columns:\n",
    "        df.loc[df[c].isin(missing_vals[c]), c] = np.NaN\n",
    "    return df\n",
    "\n",
    "def drop_na_rows(df):\n",
    "    narows = df.copy()\n",
    "    narows['cnt'], narows['perc'] = narows.isnull().sum(axis=1), (narows.isnull().sum(axis=1) / len(list(narows)))\n",
    "    narows = narows[['cnt','perc']]\n",
    "    narows['above_30_perc'] = narows.perc.apply(lambda x: x > .5)\n",
    "    df = df.drop(narows[narows['above_30_perc']].index)\n",
    "    return df\n",
    "\n",
    "def set_categorical_types(df):\n",
    "    for col in feat_info[feat_info.type == 'categorical'].attribute.tolist():\n",
    "        try:\n",
    "            print(f'Setting {col} as \"Categorical\" type...')\n",
    "            df[col] = df[col].astype('category')\n",
    "        except KeyError as e:\n",
    "            print(f'\\n>> Notice: Missing {col}. Continuing...', '*'*30, '\\n\\n\\n', e)\n",
    "            pass\n",
    "    return df\n",
    "\n",
    "def do_fillna_mode(df):\n",
    "    \"\"\"Taken from: \n",
    "    https://stackoverflow.com/questions/32617811/\n",
    "    imputation-of-missing-values-for-categories-in-pandas\n",
    "    \"\"\"\n",
    "    return df.apply(lambda x:x.fillna(x.value_counts().index[0]))\n",
    "\n",
    "def clean_data(df, get_missing=False):\n",
    "    \"\"\"\n",
    "    Perform feature trimming, re-encoding, and engineering for demographics data\n",
    "\n",
    "    INPUT: Demographics DataFrame\n",
    "    OUTPUT: Trimmed and cleaned demographics DataFrame\n",
    "    \"\"\"\n",
    "    # Put in code here to execute all main cleaning steps:\n",
    "    # convert missing value codes into NaNs, ...\n",
    "\n",
    "    # Example taken from: https://www.youtube.com/watch?v=7ZHRM0Fl2S8\n",
    "    df = df.copy()\n",
    "    display_missing_data_diff = lambda perc_missing: display(perc_missing)\n",
    "\n",
    "    perc_missing_before_clean = ((df.isnull().sum() / len(df)).sort_values(ascending=False)) * 100\n",
    "    df = decode_nans(df)\n",
    "    perc_missing_after_clean = ((df.isnull().sum() / len(df)).sort_values(ascending=False)) * 100\n",
    "\n",
    "    # UPDATING DATA TYPES\n",
    "    df = set_categorical_types(df)\n",
    "    \n",
    "    # Remove selected columns...\n",
    "    df.drop(perc_missing_after_clean[perc_missing_after_clean > 20].index.tolist(), \n",
    "            axis=1, inplace=True)\n",
    "\n",
    "    remaining_cols = df.columns\n",
    "    perc_missing = pd.concat([perc_missing_before_clean,\n",
    "                              perc_missing_after_clean], axis=1).reset_index()\n",
    "    perc_missing.columns = ['Attributes', 'Missing Before', 'Missing After']\n",
    "    perc_missing['Dropped'] = perc_missing.Attributes.apply(\n",
    "        lambda x: False if x in remaining_cols else True\n",
    "    )\n",
    "    perc_missing = perc_missing.set_index('Attributes')\n",
    "    \n",
    "    df = engineer_new_features(df)\n",
    "    df = categorize_binary_features(df)\n",
    "    df = drop_na_rows(df)\n",
    "    df = do_fillna_mode(df)\n",
    "    \n",
    "    if get_missing:\n",
    "        display_missing_data_diff(perc_missing) \n",
    "        return df, perc_missing\n",
    "    else:\n",
    "        return df\n",
    "\n",
    "def scale_features(df):\n",
    "    \"\"\"Example from:\n",
    "    https://stackoverflow.com/questions/43798377/\n",
    "    one-hot-encode-categorical-variables-and-scale-continuous-ones-simultaneouely\n",
    "    \"\"\"\n",
    "    df = df.dropna()\n",
    "    df = __to_pd(df)\n",
    "\n",
    "    nums = cols_by_type('numeric', list(df))\n",
    "    ordinal = cols_by_type('ordinal', list(df))\n",
    "    cat = cols_by_type('categorical', list(df))\n",
    "    \n",
    "    ##Manual Exceptions for Mixed Types\n",
    "    [ordinal.append(c) for c in ['PLZ8_BAUMAX', 'WOHNLAGE'] if c in list(df)] \n",
    "    [cat.append(c) for c in  \n",
    "        ['ALTERSKATEGORIE_GROB','LP_LEBENSPHASE_FEIN', 'LP_LEBENSPHASE_GROB', 'PRAEGENDE_JUGENDJAHRE']\n",
    "     if c in list(df)\n",
    "    ]\n",
    "    \n",
    "    coltransformer = ColumnTransformer(\n",
    "        transformers=[\n",
    "            ('ord', OrdinalEncoder(), ordinal),\n",
    "            ('num_imputer', SimpleImputer(), nums),\n",
    "            ('cat_ord_imp', SimpleImputer(\n",
    "                missing_values=np.nan,\n",
    "                strategy='most_frequent'), cat+ordinal),\n",
    "            ('onehot', OneHotEncoder(), cat)\n",
    "        ],\n",
    "        remainder='passthrough', #'drop',\n",
    "        n_jobs=-1)\n",
    "    \n",
    "    scaler = StandardScaler()\n",
    "    scaler.fit_transform(coltransformer.fit_transform(df))\n",
    "\n",
    "    return scaler\n",
    "\n",
    "def get_set_pipe(df, params=None):\n",
    "    if params:        \n",
    "        pca__n_components = params.get('pca__n_components', None)\n",
    "        km__n_clusters = params.get('km__n_clusters', None)        \n",
    "        pca = PCA(pca__n_components) if pca__n_components else PCA()\n",
    "        km = KMeans(km__n_clusters) if km__n_clusters else KMeans()\n",
    "    else:\n",
    "        km, pca = KMeans(), PCA()\n",
    "        \n",
    "    return Pipeline(steps=[('prep', scale_features(df)), ('pca', pca), ('km', km)])\n",
    "\n",
    "def grid_search(df):\n",
    "    df = __to_pd(df)\n",
    "    pipe = get_set_pipe(df)\n",
    "    pipe.fit(df)\n",
    "    param_grid = {\n",
    "        'pca__n_components': [5, 15, 30, 45, 64],\n",
    "        \"km__n_clusters\": range(2, 11),\n",
    "    }\n",
    "    search = GridSearchCV(pipe, param_grid, n_jobs=-1, verbose=10)\n",
    "    search.fit(df)\n",
    "\n",
    "    return dict(best_score=search.best_score_,\n",
    "                               best_params=search.best_params_,\n",
    "                               named_steps=search.best_estimator_.named_steps)\n",
    "\n",
    "def fit_model_pipe(df, params=None):\n",
    "    df = __to_pd(df)\n",
    "    params = grid_search(df, show_only=False) if params is None else params\n",
    "    km = KMeans(params['km__n_clusters'])\n",
    "    pca = PCA(params['pca__n_components'])\n",
    "    transformer = scale_features(df)\n",
    "\n",
    "    return Pipeline(steps=[('prep', transformer), ('pca', pca), ('km', km)]).fit(df)\n",
    "\n",
    "def add_missing_dummy_columns(d, columns):\n",
    "    \"\"\"TAKEN FROM: https://knowledge.udacity.com/questions/65620\"\"\"\n",
    "    missing_cols = set(columns) - set(d.columns)\n",
    "    print(missing_cols)\n",
    "    for c in missing_cols:\n",
    "        d[c] = 0\n",
    "           \n",
    "def fix_columns(d, columns):  \n",
    "    \"\"\"TAKEN FROM: https://knowledge.udacity.com/questions/65620\"\"\"\n",
    "    add_missing_dummy_columns(d, columns)\n",
    "    # make sure we have all the columns we need\n",
    "    assert(set(columns) - set(d.columns) == set())\n",
    "    extra_cols = set(d.columns) - set(columns)\n",
    "    if extra_cols:\n",
    "        print(\"extra columns:\", extra_cols)\n",
    "    d = d[columns]\n",
    "    return d\n",
    "\n",
    "print_src = lambda func_name: print(f\"\"\"\\033[92m\\033[94m{inspect.getsource(globals()[func_name])}\\033[94m\\033[92m\"\"\")\n"
   ]
  },
  {
   "cell_type": "markdown",
   "metadata": {},
   "source": [
    "### Step 0: Load the Data\n",
    "\n",
    "There are four files associated with this project (not including this one):\n",
    "\n",
    "- `Udacity_azdias_Subset.csv`: Demographics data for the general population of Germany; 891211 persons (rows) x 85 features (columns).\n",
    "- `Udacity_CUSTOMERS_Subset.csv`: Demographics data for customers of a mail-order company; 191652 persons (rows) x 85 features (columns).\n",
    "- `Data_Dictionary.md`: Detailed information file about the features in the provided datasets.\n",
    "- `azdias_Feature_Summary.csv`: Summary of feature attributes for demographics data; 85 features (rows) x 4 columns\n",
    "\n",
    "Each row of the demographics files represents a single person, but also includes information outside of individuals, including information about their household, building, and neighborhood. You will use this information to cluster the general population into groups with similar demographic properties. Then, you will see how the people in the customers dataset fit into those created clusters. The hope here is that certain clusters are over-represented in the customers data, as compared to the general population; those over-represented clusters will be assumed to be part of the core userbase. This information can then be used for further applications, such as targeting for a marketing campaign.\n",
    "\n",
    "To start off with, load in the demographics data for the general population into a pandas DataFrame, and do the same for the feature attributes summary. Note for all of the `.csv` data files in this project: they're semicolon (`;`) delimited, so you'll need an additional argument in your [`read_csv()`](https://pandas.pydata.org/pandas-docs/stable/generated/pandas.read_csv.html) call to read in the data properly. Also, considering the size of the main dataset, it may take some time for it to load completely.\n",
    "\n",
    "Once the dataset is loaded, it's recommended that you take a little bit of time just browsing the general structure of the dataset and feature summary file. You'll be getting deep into the innards of the cleaning in the first major step of the project, so gaining some general familiarity can help you get your bearings."
   ]
  },
  {
   "cell_type": "code",
   "execution_count": null,
   "metadata": {
    "scrolled": true
   },
   "outputs": [],
   "source": [
    "%%time\n",
    "# Load in the general demographics data.\n",
    "azdias = pd.read_csv('Udacity_AZDIAS_Subset.csv', sep=';')\n",
    "# Load in the feature summary file.\n",
    "feat_info = pd.read_csv('AZDIAS_Feature_Summary.csv', sep=';')"
   ]
  },
  {
   "cell_type": "code",
   "execution_count": null,
   "metadata": {},
   "outputs": [],
   "source": [
    "# Check the structure of the data after it's loaded (e.g. print the number of\n",
    "# rows and columns, print the first few rows).\n",
    "\n",
    "\"\"\"\n",
    "NOTE: \n",
    "\n",
    "I manually call display here because the display function I'm using is shadowing\n",
    "the default Juptyer display function and has special \n",
    "functionality to handle a known bug with Jupyter displaying Modin dataframes\n",
    "\"\"\"\n",
    "\n",
    "display(azdias.head())\n",
    "display(feat_info.head())"
   ]
  },
  {
   "cell_type": "markdown",
   "metadata": {},
   "source": [
    "> **Tip**: Add additional cells to keep everything in reasonably-sized chunks! Keyboard shortcut `esc --> a` (press escape to enter command mode, then press the 'A' key) adds a new cell before the active cell, and `esc --> b` adds a new cell after the active cell. If you need to convert an active cell to a markdown cell, use `esc --> m` and to convert to a code cell, use `esc --> y`. \n",
    "\n",
    "## Step 1: Preprocessing\n",
    "\n",
    "### Step 1.1: Assess Missing Data\n",
    "\n",
    "The feature summary file contains a summary of properties for each demographics data column. You will use this file to help you make cleaning decisions during this stage of the project. First of all, you should assess the demographics data in terms of missing data. Pay attention to the following points as you perform your analysis, and take notes on what you observe. Make sure that you fill in the **Discussion** cell with your findings and decisions at the end of each step that has one!\n",
    "\n",
    "#### Step 1.1.1: Convert Missing Value Codes to NaNs\n",
    "The fourth column of the feature attributes summary (loaded in above as `feat_info`) documents the codes from the data dictionary that indicate missing or unknown data. While the file encodes this as a list (e.g. `[-1,0]`), this will get read in as a string object. You'll need to do a little bit of parsing to make use of it to identify and clean the data. Convert data that matches a 'missing' or 'unknown' value code into a numpy NaN value. You might want to see how much data takes on a 'missing' or 'unknown' code, and how much data is naturally missing, as a point of interest.\n",
    "\n",
    "**As one more reminder, you are encouraged to add additional cells to break up your analysis into manageable chunks.**"
   ]
  },
  {
   "cell_type": "markdown",
   "metadata": {},
   "source": [
    "#### Step 1.1.2: Assess Missing Data in Each Column\n",
    "\n",
    "How much missing data is present in each column? There are a few columns that are outliers in terms of the proportion of values that are missing. You will want to use matplotlib's [`hist()`](https://matplotlib.org/api/_as_gen/matplotlib.pyplot.hist.html) function to visualize the distribution of missing value counts to find these columns. Identify and document these columns. While some of these columns might have justifications for keeping or re-encoding the data, for this project you should just remove them from the dataframe. (Feel free to make remarks about these outlier columns in the discussion, however!)\n",
    "\n",
    "For the remaining features, are there any patterns in which columns have, or share, missing data?"
   ]
  },
  {
   "cell_type": "markdown",
   "metadata": {},
   "source": [
    "### Step 1.1 & Step 1.1.1 (SOLUTIONS): Assess Missing Data"
   ]
  },
  {
   "cell_type": "code",
   "execution_count": null,
   "metadata": {},
   "outputs": [],
   "source": [
    "%%time\n",
    "display(feat_info.head(n=10))"
   ]
  },
  {
   "cell_type": "code",
   "execution_count": null,
   "metadata": {},
   "outputs": [],
   "source": [
    "%%time\n",
    "# Perform an assessment of how much missing data there is in each column of the dataset. \n",
    "\n",
    "# Correctly converts encodings for missing data to NaNs\n",
    "# Then Removes Rows / Columns of missing data and updates dtypes\n",
    "\n",
    "azdias_cleaned, perc_missing =  clean_data(azdias, get_missing=True) #View source code with print_src('clean_data')\n",
    "## ALSO DISPLAY MISSING DATA"
   ]
  },
  {
   "cell_type": "code",
   "execution_count": null,
   "metadata": {},
   "outputs": [],
   "source": [
    "%%time\n",
    "# Investigate patterns in the amount of missing data in each column.\n",
    "# # msno.bar(azdias) \n",
    "# msno.heatmap(azdias)\n",
    "\n",
    "# plt.figure(figsize=(20,20))\n",
    "# sns.heatmap(azdias.isnull(), cbar=False)\n",
    "\"\"\"\n",
    "Formatting how-to taken from:\n",
    "https://stackoverflow.com/questions/3899980/how-to-change-the-font-size-on-a-matplotlib-plot\n",
    "\"\"\"\n",
    "\n",
    "font = {'family' : 'normal',\n",
    "        'weight' : 'bold',\n",
    "        'size'   : 14}\n",
    "\n",
    "plt.rc('font', **font)\n",
    "plt.figure(figsize=(20,20))\n",
    "plt.title('Percentage Missing for Initial Columns BEFORE Data Cleansing')\n",
    "perc_missing['Missing Before'].sort_values(ascending=False).plot.bar()"
   ]
  },
  {
   "cell_type": "code",
   "execution_count": null,
   "metadata": {},
   "outputs": [],
   "source": [
    "%%time\n",
    "# Investigate patterns in the amount of missing data in each column.\n",
    "font = {'family' : 'normal',\n",
    "        'weight' : 'bold',\n",
    "        'size'   : 14}\n",
    "\n",
    "plt.rc('font', **font)\n",
    "plt.figure(figsize=(20,20))\n",
    "plt.title('Percentage Missing for Columns AFTER Updating NaN Values (and before dropping cols missing > 20%)')\n",
    "perc_missing['Missing After'].sort_values(ascending=False).plot.bar()"
   ]
  },
  {
   "cell_type": "code",
   "execution_count": null,
   "metadata": {},
   "outputs": [],
   "source": [
    "%%time\n",
    "# Investigate patterns in the amount of missing data in each column.\n",
    "\n",
    "plt.figure(figsize=(20,20))\n",
    "plt.title('Percentage Missing for Remaining Columns AFTER Data Cleansing')\n",
    "perc_missing.query('Dropped == False')['Missing After'].sort_values(ascending=False).plot.bar()"
   ]
  },
  {
   "cell_type": "code",
   "execution_count": null,
   "metadata": {
    "scrolled": true
   },
   "outputs": [],
   "source": [
    "%%time\n",
    "# Remove the outlier columns from the dataset. (You'll perform other data\n",
    "# engineering tasks such as re-encoding and imputation later.)\n",
    "\n",
    "# Rule of thumb is more than 20% of missing data can throw off analysis\n",
    "\n",
    "\"\"\"\n",
    "NOTE: Outlier Columns were already removed via the \"clean_data\" method previously.\n",
    "See source code before.\n",
    "\"\"\"\n",
    "print_src('clean_data')"
   ]
  },
  {
   "cell_type": "code",
   "execution_count": null,
   "metadata": {},
   "outputs": [],
   "source": [
    "sep = '='*60\n",
    "print(f'{sep}\\nDROPPED Columns:\\n{sep}')\n",
    "display(perc_missing.query('Dropped == True'))"
   ]
  },
  {
   "cell_type": "markdown",
   "metadata": {},
   "source": [
    "#### Discussion 1.1.2: Assess Missing Data in Each Column\n",
    "\n",
    "The initial set of missing data was misleading. Decoding the \"missing values\" as were specified in the accompanying documents lead me to understand that \n",
    "many features contained a significant amount more missing data than I assumed from first glance. It rendered a handful of features useless.\n",
    "\n",
    "These are the dropped columns missing > 20%: AGER_TYP, ALTER_HH, GEBURTSJAHR, KBA05_BAUMAX, KK_KUNDENTYP, and TITEL_KZ.\n",
    "    \n",
    "\"TITEL_KZ\" in particular went from ~8% to ~99% null after accounting for encoded values.\n",
    "This makes sense when looking at the data dictionary. Most people do not have title specifying academic acheivement (like Dr. or Prof.). It could have been recoded for having and not-having an honorific title, but the remaining number of entries likely wouldn't reveal a significant trend. If it did, then specific titles are likely correlated with household income which would be a better overall predictor in general.\n",
    "\n",
    "GEBURTSJAHR (year of birth) is intuitively an important feature. If this data is not present or useable, I would suggest that the company attempt to collect this data by other direct or indirect means if it can't be inferred from other, existing features.\n",
    "\n",
    "Per each feature, it would be wise to classify missing data trends as Missing at Random, Missing Completely at Random, Missing Not at Random, etc.. \n",
    "\n",
    "Reference -- https://towardsdatascience.com/all-about-missing-data-handling-b94b8b5d2184\n",
    "\n",
    "For the other columns, I am either not familiar with the terminology used enough to apply any significant meaning (i.e. not sure what microcell and passive elderly) or the terms seem value or subjective. For instance, head of household is an ambiguous and/or culturally outdated term. It could signify the top fiscal earner or father in traditional nuclear family, but may not apply to dual-income egalitarian households.\n",
    "\n",
    "For remaining columns with a high percent of missing values, I'd want to find out if there is an underlying reason, which may influence my decision to impute vs. drop.  \n",
    "\n",
    "This does raise the importance of understanding the underlying data and how its collected and having insight into the business domain.\n",
    "On its surface this seems like an obvious thing to point out, but I have seen plenty of case where people try to niavely throw algorithms, tools, etc.. at data expecting it to yield value.\n",
    "It is vitally important to sit down with subject matter experts, data entry personnel, and long-time exmployees who understand how encoded data changes over time.\n",
    "This dataset comes with a data dictionary that spells it out for you, but in the real world one might have to go digging to find encoded data that should be NULL to eliminate\n",
    "dummy records. Spending weeks or months interviewing data and business process owners is tedious. The tendency is for data practioners to skip straight to modeling  either due to\n",
    "pure negligence or environmental stressors such as impatient business stakeholders.\n",
    "\n",
    "Apart from this excersise, its also very important to understand WHY certain data is missing. Sometimes missing data gives insights into a business process and can yield\n",
    "additional features in its own right. If this were a real-world scenario, I would be inclined to ask business users why certain features are almost entirely empty.\n",
    "\n",
    "Some example business questions might be:\n",
    "    - Did we just recently start collecting that data? \n",
    "    - Is there something about specific populations that would lead to omissions? \n",
    "    - Is this data volitioning provided by customers and if so can we infer any additional customer behaviors \n",
    "    from their desire to abstain from answering particular survey questions?"
   ]
  },
  {
   "cell_type": "markdown",
   "metadata": {},
   "source": [
    "#### Step 1.1.3: Assess Missing Data in Each Row\n",
    "\n",
    "Now, you'll perform a similar assessment for the rows of the dataset. How much data is missing in each row? As with the columns, you should see some groups of points that have a very different numbers of missing values. Divide the data into two subsets: one for data points that are above some threshold for missing values, and a second subset for points below that threshold.\n",
    "\n",
    "In order to know what to do with the outlier rows, we should see if the distribution of data values on columns that are not missing data (or are missing very little data) are similar or different between the two groups. Select at least five of these columns and compare the distribution of values.\n",
    "- You can use seaborn's [`countplot()`](https://seaborn.pydata.org/generated/seaborn.countplot.html) function to create a bar chart of code frequencies and matplotlib's [`subplot()`](https://matplotlib.org/api/_as_gen/matplotlib.pyplot.subplot.html) function to put bar charts for the two subplots side by side.\n",
    "- To reduce repeated code, you might want to write a function that can perform this comparison, taking as one of its arguments a column to be compared.\n",
    "\n",
    "Depending on what you observe in your comparison, this will have implications on how you approach your conclusions later in the analysis. If the distributions of non-missing features look similar between the data with many missing values and the data with few or no missing values, then we could argue that simply dropping those points from the analysis won't present a major issue. On the other hand, if the data with many missing values looks very different from the data with few or no missing values, then we should make a note on those data as special. We'll revisit these data later on. **Either way, you should continue your analysis for now using just the subset of the data with few or no missing values.**"
   ]
  },
  {
   "cell_type": "code",
   "execution_count": null,
   "metadata": {},
   "outputs": [],
   "source": [
    "# %%time\n",
    "# corrs = azdias.isnull().corr()\n",
    "# corrs.abs().mean().sort_values(ascending=False)\n",
    "# # corrs.plot(figsize=(30,30))\n",
    "# corrs.style.background_gradient(cmap='coolwarm', axis=None)"
   ]
  },
  {
   "cell_type": "code",
   "execution_count": null,
   "metadata": {},
   "outputs": [],
   "source": [
    "%%time\n",
    "# How much data is missing in each row of the dataset?\n",
    "# Write code to divide the data into two subsets based on the number of missing\n",
    "# values in each row.\n",
    "\n",
    "narows = pd.read_csv('Udacity_AZDIAS_Subset.csv', ';')\n",
    "narows = decode_nans(narows)\n",
    "# narows = azdias.copy(); del azdias \n",
    "\n",
    "narows['cnt'], narows['perc'] = narows.isnull().sum(axis=1), (narows.isnull().sum(axis=1) / len(list(narows)))\n",
    "narows = narows[['cnt','perc']]\n",
    "narows['above_30_perc'] = narows.perc.apply(lambda x: x > .3)\n",
    "display(narows.sort_values(by='perc', ascending=False).head(n=10))"
   ]
  },
  {
   "cell_type": "code",
   "execution_count": null,
   "metadata": {},
   "outputs": [],
   "source": [
    "summary = narows.sort_values(by='perc', ascending=False)\n",
    "summary = summary.cnt.value_counts().reset_index()\n",
    "summary.columns = ['num_missing', 'row_count']\n",
    "display(summary.sort_values(by='num_missing'))"
   ]
  },
  {
   "cell_type": "code",
   "execution_count": null,
   "metadata": {},
   "outputs": [],
   "source": [
    "display(pd.DataFrame(narows['above_30_perc'].value_counts() / len(narows))\n",
    "        .rename(columns={0:'Above 30 Percent Missing Fields'}))"
   ]
  },
  {
   "cell_type": "code",
   "execution_count": null,
   "metadata": {},
   "outputs": [],
   "source": [
    "sns.set(rc={'figure.figsize':(11.7,8.27)})\n",
    "sns.distplot(narows['cnt'], axlabel='Distribution of Missing Values By Row')"
   ]
  },
  {
   "cell_type": "code",
   "execution_count": null,
   "metadata": {},
   "outputs": [],
   "source": [
    "# Compare the distribution of values for at least five columns where there are\n",
    "# no or few missing values, between the two subsets.\n",
    "\"\"\"\n",
    "I HAVE NO IDEA WHAT THIS IS ASKING!\n",
    "\n",
    "Aren't we discussing rows and not columns here??\n",
    "\"\"\""
   ]
  },
  {
   "cell_type": "code",
   "execution_count": null,
   "metadata": {},
   "outputs": [],
   "source": [
    "# Function to drop NA Rows\n",
    "print_src('drop_na_rows')"
   ]
  },
  {
   "cell_type": "markdown",
   "metadata": {},
   "source": [
    "#### Discussion 1.1.3: Assess Missing Data in Each Row\n",
    "\n",
    "(Double-click this cell and replace this text with your own text, reporting your observations regarding missing data in rows. Are the data with lots of missing values are qualitatively different from data with few or no missing values?)"
   ]
  },
  {
   "cell_type": "markdown",
   "metadata": {},
   "source": [
    "### Step 1.2: Select and Re-Encode Features\n",
    "\n",
    "Checking for missing data isn't the only way in which you can prepare a dataset for analysis. Since the unsupervised learning techniques to be used will only work on data that is encoded numerically, you need to make a few encoding changes or additional assumptions to be able to make progress. In addition, while almost all of the values in the dataset are encoded using numbers, not all of them represent numeric values. Check the third column of the feature summary (`feat_info`) for a summary of types of measurement.\n",
    "- For numeric and interval data, these features can be kept without changes.\n",
    "- Most of the variables in the dataset are ordinal in nature. While ordinal values may technically be non-linear in spacing, make the simplifying assumption that the ordinal variables can be treated as being interval in nature (that is, kept without any changes).\n",
    "- Special handling may be necessary for the remaining two variable types: categorical, and 'mixed'.\n",
    "\n",
    "In the first two parts of this sub-step, you will perform an investigation of the categorical and mixed-type features and make a decision on each of them, whether you will keep, drop, or re-encode each. Then, in the last part, you will create a new data frame with only the selected and engineered columns.\n",
    "\n",
    "Data wrangling is often the trickiest part of the data analysis process, and there's a lot of it to be done here. But stick with it: once you're done with this step, you'll be ready to get to the machine learning parts of the project!"
   ]
  },
  {
   "cell_type": "code",
   "execution_count": null,
   "metadata": {},
   "outputs": [],
   "source": []
  },
  {
   "cell_type": "markdown",
   "metadata": {},
   "source": [
    "#### Step 1.2.1: Re-Encode Categorical Features\n",
    "\n",
    "For categorical data, you would ordinarily need to encode the levels as dummy variables. Depending on the number of categories, perform one of the following:\n",
    "- For binary (two-level) categoricals that take numeric values, you can keep them without needing to do anything.\n",
    "- There is one binary variable that takes on non-numeric values. For this one, you need to re-encode the values as numbers or create a dummy variable.\n",
    "- For multi-level categoricals (three or more values), you can choose to encode the values using multiple dummy variables (e.g. via [OneHotEncoder](http://scikit-learn.org/stable/modules/generated/sklearn.preprocessing.OneHotEncoder.html)), or (to keep things straightforward) just drop them from the analysis. As always, document your choices in the Discussion section."
   ]
  },
  {
   "cell_type": "code",
   "execution_count": null,
   "metadata": {},
   "outputs": [],
   "source": [
    "%%time\n",
    "# Assess categorical variables: which are binary, which are multi-level, and\n",
    "# which one needs to be re-encoded?\n",
    "# Re-encode categorical variable(s) to be kept in the analysis.\n",
    "'Categorical (Binary too), and Ordinal features need to be re-encoded'\n",
    "\n",
    "#Called in the \"clean_data\" function\n",
    "print_src('categorize_binary_features')\n",
    "print_src('print_types')"
   ]
  },
  {
   "cell_type": "code",
   "execution_count": null,
   "metadata": {},
   "outputs": [],
   "source": [
    "print_types()"
   ]
  },
  {
   "cell_type": "markdown",
   "metadata": {},
   "source": [
    "#### Discussion 1.2.1: Re-Encode Categorical Features\n",
    "\n",
    "(Double-click this cell and replace this text with your own text, reporting your findings and decisions regarding categorical features. Which ones did you keep, which did you drop, and what engineering steps did you perform?)"
   ]
  },
  {
   "cell_type": "markdown",
   "metadata": {},
   "source": [
    "#### Step 1.2.2: Engineer Mixed-Type Features\n",
    "\n",
    "There are a handful of features that are marked as \"mixed\" in the feature summary that require special treatment in order to be included in the analysis. There are two in particular that deserve attention; the handling of the rest are up to your own choices:\n",
    "- \"PRAEGENDE_JUGENDJAHRE\" combines information on three dimensions: generation by decade, movement (mainstream vs. avantgarde), and nation (east vs. west). While there aren't enough levels to disentangle east from west, you should create two new variables to capture the other two dimensions: an interval-type variable for decade, and a binary variable for movement.\n",
    "- \"CAMEO_INTL_2015\" combines information on two axes: wealth and life stage. Break up the two-digit codes by their 'tens'-place and 'ones'-place digits into two new ordinal variables (which, for the purposes of this project, is equivalent to just treating them as their raw numeric values).\n",
    "- If you decide to keep or engineer new features around the other mixed-type features, make sure you note your steps in the Discussion section.\n",
    "\n",
    "Be sure to check `Data_Dictionary.md` for the details needed to finish these tasks."
   ]
  },
  {
   "cell_type": "code",
   "execution_count": null,
   "metadata": {},
   "outputs": [],
   "source": [
    "# Investigate \"PRAEGENDE_JUGENDJAHRE\" and engineer two new variables.\n",
    "# FROM DATA_DICTIONARY\n",
    "\"\"\"Dominating movement of person's youth (avantgarde vs. mainstream; east vs. west)\n",
    "- -1: unknown\n",
    "-  0: unknown\n",
    "-  1: 40s - war years (Mainstream, E+W)\n",
    "-  2: 40s - reconstruction years (Avantgarde, E+W)\n",
    "-  3: 50s - economic miracle (Mainstream, E+W)\n",
    "-  4: 50s - milk bar / Individualisation (Avantgarde, E+W)\n",
    "-  5: 60s - economic miracle (Mainstream, E+W)\n",
    "-  6: 60s - generation 68 / student protestors (Avantgarde, W)\n",
    "-  7: 60s - opponents to the building of the Wall (Avantgarde, E)\n",
    "-  8: 70s - family orientation (Mainstream, E+W)\n",
    "-  9: 70s - peace movement (Avantgarde, E+W)\n",
    "- 10: 80s - Generation Golf (Mainstream, W)\n",
    "- 11: 80s - ecological awareness (Avantgarde, W)\n",
    "- 12: 80s - FDJ / communist party youth organisation (Mainstream, E)\n",
    "- 13: 80s - Swords into ploughshares (Avantgarde, E)\n",
    "- 14: 90s - digital media kids (Mainstream, E+W)\n",
    "- 15: 90s - ecological awareness (Avantgarde, E+W)\"\"\"\n",
    "\n",
    "# Investigate \"CAMEO_INTL_2015\" and engineer two new variables.\n",
    "# FROM DATA_DICTIONARY\n",
    "\"\"\"German CAMEO: Wealth / Life Stage Typology, mapped to international code\n",
    "- -1: unknown\n",
    "- 11: Wealthy Households - Pre-Family Couples & Singles\n",
    "- 12: Wealthy Households - Young Couples With Children\n",
    "- 13: Wealthy Households - Families With School Age Children\n",
    "- 14: Wealthy Households - Older Families &  Mature Couples\n",
    "- 15: Wealthy Households - Elders In Retirement\n",
    "- 21: Prosperous Households - Pre-Family Couples & Singles\n",
    "- 22: Prosperous Households - Young Couples With Children\n",
    "- 23: Prosperous Households - Families With School Age Children\n",
    "- 24: Prosperous Households - Older Families & Mature Couples\n",
    "- 25: Prosperous Households - Elders In Retirement\n",
    "- 31: Comfortable Households - Pre-Family Couples & Singles\n",
    "- 32: Comfortable Households - Young Couples With Children\n",
    "- 33: Comfortable Households - Families With School Age Children\n",
    "- 34: Comfortable Households - Older Families & Mature Couples\n",
    "- 35: Comfortable Households - Elders In Retirement\n",
    "- 41: Less Affluent Households - Pre-Family Couples & Singles\n",
    "- 42: Less Affluent Households - Young Couples With Children\n",
    "- 43: Less Affluent Households - Families With School Age Children\n",
    "- 44: Less Affluent Households - Older Families & Mature Couples\n",
    "- 45: Less Affluent Households - Elders In Retirement\n",
    "- 51: Poorer Households - Pre-Family Couples & Singles\n",
    "- 52: Poorer Households - Young Couples With Children\n",
    "- 53: Poorer Households - Families With School Age Children\n",
    "- 54: Poorer Households - Older Families & Mature Couples\n",
    "- 55: Poorer Households - Elders In Retirement\n",
    "- XX: unknown\"\"\"\n",
    "\n",
    "\n",
    "#NOTE: This was already called in the \"clean_data()\" method\n",
    "print_src('engineer_new_features')"
   ]
  },
  {
   "cell_type": "markdown",
   "metadata": {},
   "source": [
    "#### Discussion 1.2.2: Engineer Mixed-Type Features\n",
    "\n",
    "(Double-click this cell and replace this text with your own text, reporting your findings and decisions regarding mixed-value features. Which ones did you keep, which did you drop, and what engineering steps did you perform?)"
   ]
  },
  {
   "cell_type": "code",
   "execution_count": null,
   "metadata": {},
   "outputs": [],
   "source": []
  },
  {
   "cell_type": "markdown",
   "metadata": {},
   "source": [
    "#### Step 1.2.3: Complete Feature Selection\n",
    "\n",
    "In order to finish this step up, you need to make sure that your data frame now only has the columns that you want to keep. To summarize, the dataframe should consist of the following:\n",
    "- All numeric, interval, and ordinal type columns from the original dataset.\n",
    "- Binary categorical features (all numerically-encoded).\n",
    "- Engineered features from other multi-level categorical features and mixed features.\n",
    "\n",
    "Make sure that for any new columns that you have engineered, that you've excluded the original columns from the final dataset. Otherwise, their values will interfere with the analysis later on the project. For example, you should not keep \"PRAEGENDE_JUGENDJAHRE\", since its values won't be useful for the algorithm: only the values derived from it in the engineered features you created should be retained. As a reminder, your data should only be from **the subset with few or no missing values**."
   ]
  },
  {
   "cell_type": "code",
   "execution_count": null,
   "metadata": {},
   "outputs": [],
   "source": [
    "# If there are other re-engineering tasks you need to perform, make sure you\n",
    "# take care of them here. (Dealing with missing data will come in step 2.1.)\n"
   ]
  },
  {
   "cell_type": "code",
   "execution_count": null,
   "metadata": {},
   "outputs": [],
   "source": [
    "# Do whatever you need to in order to ensure that the dataframe only contains\n",
    "# the columns that should be passed to the algorithm functions.\n",
    "\n",
    "\"\"\"\n",
    "NOTE:\n",
    "This will be done with the scale_features function with the \n",
    "remainder='drop' transformer step\"\n",
    "\"\"\"\n",
    "\n",
    "print_src('scale_features')"
   ]
  },
  {
   "cell_type": "markdown",
   "metadata": {},
   "source": [
    "### Step 1.3: Create a Cleaning Function\n",
    "\n",
    "Even though you've finished cleaning up the general population demographics data, it's important to look ahead to the future and realize that you'll need to perform the same cleaning steps on the customer demographics data. In this substep, complete the function below to execute the main feature selection, encoding, and re-engineering steps you performed above. Then, when it comes to looking at the customer data in Step 3, you can just run this function on that DataFrame to get the trimmed dataset in a single step."
   ]
  },
  {
   "cell_type": "code",
   "execution_count": null,
   "metadata": {},
   "outputs": [],
   "source": [
    "%%time \n",
    "print_src('clean_data')"
   ]
  },
  {
   "cell_type": "markdown",
   "metadata": {},
   "source": [
    "## Step 2: Feature Transformation\n",
    "\n",
    "### Step 2.1: Apply Feature Scaling\n",
    "\n",
    "Before we apply dimensionality reduction techniques to the data, we need to perform feature scaling so that the principal component vectors are not influenced by the natural differences in scale for features. Starting from this part of the project, you'll want to keep an eye on the [API reference page for sklearn](http://scikit-learn.org/stable/modules/classes.html) to help you navigate to all of the classes and functions that you'll need. In this substep, you'll need to check the following:\n",
    "\n",
    "- sklearn requires that data not have missing values in order for its estimators to work properly. So, before applying the scaler to your data, make sure that you've cleaned the DataFrame of the remaining missing values. This can be as simple as just removing all data points with missing data, or applying an [Imputer](http://scikit-learn.org/stable/modules/generated/sklearn.preprocessing.Imputer.html) to replace all missing values. You might also try a more complicated procedure where you temporarily remove missing values in order to compute the scaling parameters before re-introducing those missing values and applying imputation. Think about how much missing data you have and what possible effects each approach might have on your analysis, and justify your decision in the discussion section below.\n",
    "- For the actual scaling function, a [StandardScaler](http://scikit-learn.org/stable/modules/generated/sklearn.preprocessing.StandardScaler.html) instance is suggested, scaling each feature to mean 0 and standard deviation 1.\n",
    "- For these classes, you can make use of the `.fit_transform()` method to both fit a procedure to the data as well as apply the transformation to the data at the same time. Don't forget to keep the fit sklearn objects handy, since you'll be applying them to the customer demographics data towards the end of the project."
   ]
  },
  {
   "cell_type": "code",
   "execution_count": null,
   "metadata": {},
   "outputs": [],
   "source": [
    "# If you've not yet cleaned the dataset of all NaN values, then investigate and\n",
    "# do that now.\n"
   ]
  },
  {
   "cell_type": "code",
   "execution_count": null,
   "metadata": {},
   "outputs": [],
   "source": [
    "%%time\n",
    "# Apply featurea scaling to the general population demographics data.\n",
    "transformer = scale_features(azdias_cleaned)"
   ]
  },
  {
   "cell_type": "code",
   "execution_count": null,
   "metadata": {},
   "outputs": [],
   "source": [
    "print_src('scale_features')"
   ]
  },
  {
   "cell_type": "markdown",
   "metadata": {},
   "source": [
    "### Discussion 2.1: Apply Feature Scaling\n",
    "\n",
    "(Double-click this cell and replace this text with your own text, reporting your decisions regarding feature scaling.)"
   ]
  },
  {
   "cell_type": "markdown",
   "metadata": {},
   "source": [
    "### Step 2.2: Perform Dimensionality Reduction\n",
    "\n",
    "On your scaled data, you are now ready to apply dimensionality reduction techniques.\n",
    "\n",
    "- Use sklearn's [PCA](http://scikit-learn.org/stable/modules/generated/sklearn.decomposition.PCA.html) class to apply principal component analysis on the data, thus finding the vectors of maximal variance in the data. To start, you should not set any parameters (so all components are computed) or set a number of components that is at least half the number of features (so there's enough features to see the general trend in variability).\n",
    "- Check out the ratio of variance explained by each principal component as well as the cumulative variance explained. Try plotting the cumulative or sequential values using matplotlib's [`plot()`](https://matplotlib.org/api/_as_gen/matplotlib.pyplot.plot.html) function. Based on what you find, select a value for the number of transformed features you'll retain for the clustering part of the project.\n",
    "- Once you've made a choice for the number of components to keep, make sure you re-fit a PCA instance to perform the decided-on transformation."
   ]
  },
  {
   "cell_type": "code",
   "execution_count": null,
   "metadata": {
    "scrolled": true
   },
   "outputs": [],
   "source": [
    "%%time\n",
    "azdias = pd.read_csv('Udacity_AZDIAS_Subset.csv', ';')\n",
    "azdias_cleaned = clean_data(azdias)\n",
    "azdias_cleaned.head()\n",
    "azdias_cleaned.to_csv('azdias_cleaned.csv', index=False)"
   ]
  },
  {
   "cell_type": "code",
   "execution_count": null,
   "metadata": {},
   "outputs": [],
   "source": [
    "# is_NaN = azdias_cleaned.isnull()\n",
    "# row_has_NaN = is_NaN.any(axis=1)\n",
    "# rows_with_NaN = azdias_cleaned[row_has_NaN]\n",
    "# print(rows_with_NaN)"
   ]
  },
  {
   "cell_type": "code",
   "execution_count": null,
   "metadata": {
    "scrolled": true
   },
   "outputs": [],
   "source": [
    "%%time\n",
    "pipe = get_set_pipe(azdias_cleaned)\n",
    "pca = pipe.steps[1][1]\n",
    "pca.fit(scale_features(azdias_cleaned).fit_transform(azdias_cleaned))\n",
    "# pca.fit(pd.DataFrame(scale_features(azdias_cleaned).fit_transform(azdias_cleaned)).dropna())"
   ]
  },
  {
   "cell_type": "code",
   "execution_count": null,
   "metadata": {},
   "outputs": [],
   "source": [
    "%%time\n",
    "grid_search_results = dict(best_params=dict(km__n_clusters=10, pca__n_components=5))\n",
    "pickle.dump(grid_search_results, open(\"grid_search_results.pkl\", \"wb\"))\n",
    "# grid_search_results = grid_search(azdias_cleaned.dropna())\n",
    "# grid_search_results['best_params']"
   ]
  },
  {
   "cell_type": "code",
   "execution_count": null,
   "metadata": {},
   "outputs": [],
   "source": [
    "# Investigate the variance accounted for by each principal component.\n",
    "pca.explained_variance_.round(2)"
   ]
  },
  {
   "cell_type": "code",
   "execution_count": null,
   "metadata": {
    "scrolled": true
   },
   "outputs": [],
   "source": [
    "%%time\n",
    "# Re-apply PCA to the data while selecting for number of components to retain.\n",
    "n_clust, n_comps = grid_search_results['best_params'].values()\n",
    "pca = PCA(n_components=n_comps)\n",
    "scaler = scale_features(azdias_cleaned)\n",
    "pca = pca.fit(scaler.fit_transform(azdias_cleaned))\n",
    "\n",
    "\"\"\"\n",
    "NOTE: This is already done via fit_model_pipe method.\n",
    "It runs the grid_search method\n",
    "\"\"\" \n",
    "print_src('fit_model_pipe')    \n"
   ]
  },
  {
   "cell_type": "markdown",
   "metadata": {},
   "source": [
    "### Discussion 2.2: Perform Dimensionality Reduction\n",
    "\n",
    "(Double-click this cell and replace this text with your own text, reporting your findings and decisions regarding dimensionality reduction. How many principal components / transformed features are you retaining for the next step of the analysis?)"
   ]
  },
  {
   "cell_type": "markdown",
   "metadata": {},
   "source": [
    "### Step 2.3: Interpret Principal Components\n",
    "\n",
    "Now that we have our transformed principal components, it's a nice idea to check out the weight of each variable on the first few components to see if they can be interpreted in some fashion.\n",
    "\n",
    "As a reminder, each principal component is a unit vector that points in the direction of highest variance (after accounting for the variance captured by earlier principal components). The further a weight is from zero, the more the principal component is in the direction of the corresponding feature. If two features have large weights of the same sign (both positive or both negative), then increases in one tend expect to be associated with increases in the other. To contrast, features with different signs can be expected to show a negative correlation: increases in one variable should result in a decrease in the other.\n",
    "\n",
    "- To investigate the features, you should map each weight to their corresponding feature name, then sort the features according to weight. The most interesting features for each principal component, then, will be those at the beginning and end of the sorted list. Use the data dictionary document to help you understand these most prominent features, their relationships, and what a positive or negative value on the principal component might indicate.\n",
    "- You should investigate and interpret feature associations from the first three principal components in this substep. To help facilitate this, you should write a function that you can call at any time to print the sorted list of feature weights, for the *i*-th principal component. This might come in handy in the next step of the project, when you interpret the tendencies of the discovered clusters."
   ]
  },
  {
   "cell_type": "code",
   "execution_count": null,
   "metadata": {},
   "outputs": [],
   "source": [
    "# Map weights for the first principal component to corresponding feature names\n",
    "# and then print the linked values, sorted by weight.\n",
    "# HINT: Try defining a function here or in a new cell that you can reuse in the\n",
    "# other cells.\n",
    "\n",
    "# cust.pca.fit(cust_df)\n",
    "sort_pca = lambda comp_num : [f'{i[0]}\\t{i[1]}'.expandtabs(30) \n",
    "                              for i in sorted(\n",
    "                                  {k:v for k,v in zip(azdias_cleaned.columns, pca.components_[comp_num])}.items(),\n",
    "                                  key=lambda x: x[1]\n",
    "                              )]\n",
    "sep = '*'*60\n",
    "print(f'{sep}\\n<< FIRST PRINCIPLE COMPONENT VALUES >>\\n{sep}')\n",
    "sort_pca(0)"
   ]
  },
  {
   "cell_type": "code",
   "execution_count": null,
   "metadata": {},
   "outputs": [],
   "source": [
    "# Map weights for the second principal component to corresponding feature names\n",
    "# and then print the linked values, sorted by weight.\n",
    "print(f'{sep}\\n<< SECOND PRINCIPLE COMPONENT VALUES >>\\n{sep}')\n",
    "sort_pca(1)"
   ]
  },
  {
   "cell_type": "code",
   "execution_count": null,
   "metadata": {},
   "outputs": [],
   "source": [
    "# Map weights for the third principal component to corresponding feature names\n",
    "# and then print the linked values, sorted by weight.\n",
    "print(f'{sep}\\n<< THIRD PRINCIPLE COMPONENT VALUES >>\\n{sep}') \n",
    "sort_pca(2)"
   ]
  },
  {
   "cell_type": "code",
   "execution_count": null,
   "metadata": {},
   "outputs": [],
   "source": [
    "print(f'{sep}\\n<< FOURTH PRINCIPLE COMPONENT VALUES >>\\n{sep}') \n",
    "sort_pca(3)"
   ]
  },
  {
   "cell_type": "code",
   "execution_count": null,
   "metadata": {},
   "outputs": [],
   "source": [
    "print(f'{sep}\\n<< FIFTH PRINCIPLE COMPONENT VALUES >>\\n{sep}') \n",
    "sort_pca(4)"
   ]
  },
  {
   "cell_type": "markdown",
   "metadata": {},
   "source": [
    "### Discussion 2.3: Interpret Principal Components\n",
    "\n",
    "(Double-click this cell and replace this text with your own text, reporting your observations from detailed investigation of the first few principal components generated. Can we interpret positive and negative values from them in a meaningful way?)"
   ]
  },
  {
   "cell_type": "markdown",
   "metadata": {},
   "source": [
    "## Step 3: Clustering\n",
    "\n",
    "### Step 3.1: Apply Clustering to General Population\n",
    "\n",
    "You've assessed and cleaned the demographics data, then scaled and transformed them. Now, it's time to see how the data clusters in the principal components space. In this substep, you will apply k-means clustering to the dataset and use the average within-cluster distances from each point to their assigned cluster's centroid to decide on a number of clusters to keep.\n",
    "\n",
    "- Use sklearn's [KMeans](http://scikit-learn.org/stable/modules/generated/sklearn.cluster.KMeans.html#sklearn.cluster.KMeans) class to perform k-means clustering on the PCA-transformed data.\n",
    "- Then, compute the average difference from each point to its assigned cluster's center. **Hint**: The KMeans object's `.score()` method might be useful here, but note that in sklearn, scores tend to be defined so that larger is better. Try applying it to a small, toy dataset, or use an internet search to help your understanding.\n",
    "- Perform the above two steps for a number of different cluster counts. You can then see how the average distance decreases with an increasing number of clusters. However, each additional cluster provides a smaller net benefit. Use this fact to select a final number of clusters in which to group the data. **Warning**: because of the large size of the dataset, it can take a long time for the algorithm to resolve. The more clusters to fit, the longer the algorithm will take. You should test for cluster counts through at least 10 clusters to get the full picture, but you shouldn't need to test for a number of clusters above about 30.\n",
    "- Once you've selected a final number of clusters to use, re-fit a KMeans instance to perform the clustering operation. Make sure that you also obtain the cluster assignments for the general demographics data, since you'll be using them in the final Step 3.3."
   ]
  },
  {
   "cell_type": "code",
   "execution_count": 2,
   "metadata": {},
   "outputs": [
    {
     "name": "stdout",
     "output_type": "stream",
     "text": [
      "Setting AGER_TYP as \"Categorical\" type...\n",
      "Setting ANREDE_KZ as \"Categorical\" type...\n",
      "Setting CJT_GESAMTTYP as \"Categorical\" type...\n",
      "Setting FINANZTYP as \"Categorical\" type...\n",
      "Setting GFK_URLAUBERTYP as \"Categorical\" type...\n",
      "Setting GREEN_AVANTGARDE as \"Categorical\" type...\n",
      "Setting LP_FAMILIE_FEIN as \"Categorical\" type...\n",
      "Setting LP_FAMILIE_GROB as \"Categorical\" type...\n",
      "Setting LP_STATUS_FEIN as \"Categorical\" type...\n",
      "Setting LP_STATUS_GROB as \"Categorical\" type...\n",
      "Setting NATIONALITAET_KZ as \"Categorical\" type...\n",
      "Setting SHOPPER_TYP as \"Categorical\" type...\n",
      "Setting SOHO_KZ as \"Categorical\" type...\n",
      "Setting TITEL_KZ as \"Categorical\" type...\n",
      "Setting VERS_TYP as \"Categorical\" type...\n",
      "Setting ZABEOTYP as \"Categorical\" type...\n",
      "Setting KK_KUNDENTYP as \"Categorical\" type...\n",
      "Setting GEBAEUDETYP as \"Categorical\" type...\n",
      "Setting OST_WEST_KZ as \"Categorical\" type...\n",
      "Setting CAMEO_DEUG_2015 as \"Categorical\" type...\n",
      "Setting CAMEO_DEU_2015 as \"Categorical\" type...\n",
      "CPU times: user 3min 21s, sys: 20.5 s, total: 3min 42s\n",
      "Wall time: 5min 51s\n"
     ]
    }
   ],
   "source": [
    "%%time\n",
    "grid_search_results = dict(best_params=dict(km__n_clusters=10, pca__n_components=5))\n",
    "azdias_cleaned = clean_data(pd.read_csv('Udacity_AZDIAS_Subset.csv', ';'))\n",
    "azdias_cleaned.to_csv('azdias_cleaned.csv', sep=';', index=False)"
   ]
  },
  {
   "cell_type": "code",
   "execution_count": null,
   "metadata": {},
   "outputs": [],
   "source": [
    "# azdias_cleaned.to_csv('azdias_cleaned.csv', sep=';', index=False)\n",
    "# azdias_cleaned = pd.read_csv('azdias_cleaned.csv', sep=';')"
   ]
  },
  {
   "cell_type": "code",
   "execution_count": null,
   "metadata": {
    "scrolled": true
   },
   "outputs": [],
   "source": [
    "%%time\n",
    "\"\"\"\n",
    "Over a number of different cluster counts...\n",
    "Compute the average within-cluster distances.\n",
    "Run k-means clustering on the data and...\n",
    "\"\"\"\n",
    "pca_n_comps = grid_search_results['best_params']['pca__n_components']\n",
    "scaled = scale_features(azdias_cleaned).fit_transform(azdias_cleaned)\n",
    "scores = pd.DataFrame([(n_clusters, \n",
    "                        np.abs(get_set_pipe(df=azdias_cleaned, params=dict(\n",
    "                                            pca__n_components=pca_n_comps, \n",
    "                                            km__n_clusters=n_clusters))\n",
    "                               .fit(scaled) #.steps[2][1].inertia_\n",
    "                               .score(azdias_cleaned))) \n",
    "        for n_clusters in range(1, 25)],\n",
    "    columns=['n_clusters', 'score'])\n",
    "display(scores)"
   ]
  },
  {
   "cell_type": "code",
   "execution_count": null,
   "metadata": {},
   "outputs": [],
   "source": [
    "pickle.dump(scores, open(\"scores.pkl\", \"wb\"))\n",
    "# scores = pickle.load(open('scores.pkl', 'rb'))"
   ]
  },
  {
   "cell_type": "code",
   "execution_count": null,
   "metadata": {},
   "outputs": [],
   "source": [
    "# Investigate the change in within-cluster distance across number of clusters.\n",
    "# HINT: Use matplotlib's plot function to visualize this relationship.\n",
    "\n",
    "# Example taken from: https://predictivehacks.com/k-means-elbow-method-code-for-python/\n",
    "plt.figure(figsize=(16,8))\n",
    "plt.plot(list(scores.n_clusters), scores.score, 'bx-')\n",
    "plt.xlabel('k')\n",
    "plt.ylabel('Distortion')\n",
    "plt.title('The Elbow Method showing the optimal k')\n",
    "plt.show()\n"
   ]
  },
  {
   "cell_type": "code",
   "execution_count": null,
   "metadata": {},
   "outputs": [],
   "source": [
    "grid_search_results['best_params']['km__n_clusters']"
   ]
  },
  {
   "cell_type": "code",
   "execution_count": null,
   "metadata": {
    "scrolled": true
   },
   "outputs": [],
   "source": [
    "# Re-fit the k-means model with the selected number of clusters and obtain\n",
    "# cluster predictions for the general population demographics data.\n",
    "\"\"\"\n",
    "NOTE: My previous Grid Search results show that N_CLUSTERS should be 10. \n",
    "So I'll use that.\n",
    "\"\"\"\n",
    "gmodel = fit_model_pipe(azdias_cleaned, params=dict(km__n_clusters=10, pca__n_components=5))\n",
    "scaled = scale_features(azdias_cleaned).fit_transform(azdias_cleaned)\n",
    "gpreds = gmodel.predict(azdias_cleaned)"
   ]
  },
  {
   "cell_type": "code",
   "execution_count": null,
   "metadata": {},
   "outputs": [],
   "source": [
    "pickle.dump(gmodel, open(\"general_model.pkl\", \"wb\"))"
   ]
  },
  {
   "cell_type": "markdown",
   "metadata": {},
   "source": [
    "### Discussion 3.1: Apply Clustering to General Population\n",
    "\n",
    "(Double-click this cell and replace this text with your own text, reporting your findings and decisions regarding clustering. Into how many clusters have you decided to segment the population?)"
   ]
  },
  {
   "cell_type": "markdown",
   "metadata": {},
   "source": [
    "### Step 3.2: Apply All Steps to the Customer Data\n",
    "\n",
    "Now that you have clusters and cluster centers for the general population, it's time to see how the customer data maps on to those clusters. Take care to not confuse this for re-fitting all of the models to the customer data. Instead, you're going to use the fits from the general population to clean, transform, and cluster the customer data. In the last step of the project, you will interpret how the general population fits apply to the customer data.\n",
    "\n",
    "- Don't forget when loading in the customers data, that it is semicolon (`;`) delimited.\n",
    "- Apply the same feature wrangling, selection, and engineering steps to the customer demographics using the `clean_data()` function you created earlier. (You can assume that the customer demographics data has similar meaning behind missing data patterns as the general demographics data.)\n",
    "- Use the sklearn objects from the general demographics data, and apply their transformations to the customers data. That is, you should not be using a `.fit()` or `.fit_transform()` method to re-fit the old objects, nor should you be creating new sklearn objects! Carry the data through the feature scaling, PCA, and clustering steps, obtaining cluster assignments for all of the data in the customer demographics data."
   ]
  },
  {
   "cell_type": "code",
   "execution_count": null,
   "metadata": {},
   "outputs": [],
   "source": [
    "%%time\n",
    "# Load in the customer demographics data.\n",
    "customers = pd.read_csv('Udacity_CUSTOMERS_Subset.csv', sep=';')\n",
    "customers = clean_data(customers)\n",
    "customers = fix_columns(customers, azdias_cleaned.columns.tolist())"
   ]
  },
  {
   "cell_type": "code",
   "execution_count": null,
   "metadata": {
    "scrolled": true
   },
   "outputs": [],
   "source": [
    "%%time\n",
    "# Apply preprocessing, feature transformation, and clustering from the general\n",
    "# demographics onto the customer data, obtaining cluster predictions for the\n",
    "# customer demographics data.\n",
    "pca__n_components = grid_search_results['best_params']['pca__n_components']\n",
    "\n",
    "scaled_feats = scale_features(customers).fit_transform(customers)\n",
    "customer_pca = PCA(n_components=pca__n_components).fit_transform(scaled_feats)\n",
    "cpreds = gmodel.predict(customers)"
   ]
  },
  {
   "cell_type": "code",
   "execution_count": null,
   "metadata": {},
   "outputs": [],
   "source": [
    "azdias_cleaned['predicted_cluster'] = gpreds\n",
    "customers['predicted_cluster'] =  cpreds"
   ]
  },
  {
   "cell_type": "markdown",
   "metadata": {},
   "source": [
    "### Step 3.3: Compare Customer Data to Demographics Data\n",
    "\n",
    "At this point, you have clustered data based on demographics of the general population of Germany, and seen how the customer data for a mail-order sales company maps onto those demographic clusters. In this final substep, you will compare the two cluster distributions to see where the strongest customer base for the company is.\n",
    "\n",
    "Consider the proportion of persons in each cluster for the general population, and the proportions for the customers. If we think the company's customer base to be universal, then the cluster assignment proportions should be fairly similar between the two. If there are only particular segments of the population that are interested in the company's products, then we should see a mismatch from one to the other. If there is a higher proportion of persons in a cluster for the customer data compared to the general population (e.g. 5% of persons are assigned to a cluster for the general population, but 15% of the customer data is closest to that cluster's centroid) then that suggests the people in that cluster to be a target audience for the company. On the other hand, the proportion of the data in a cluster being larger in the general population than the customer data (e.g. only 2% of customers closest to a population centroid that captures 6% of the data) suggests that group of persons to be outside of the target demographics.\n",
    "\n",
    "Take a look at the following points in this step:\n",
    "\n",
    "- Compute the proportion of data points in each cluster for the general population and the customer data. Visualizations will be useful here: both for the individual dataset proportions, but also to visualize the ratios in cluster representation between groups. Seaborn's [`countplot()`](https://seaborn.pydata.org/generated/seaborn.countplot.html) or [`barplot()`](https://seaborn.pydata.org/generated/seaborn.barplot.html) function could be handy.\n",
    "  - Recall the analysis you performed in step 1.1.3 of the project, where you separated out certain data points from the dataset if they had more than a specified threshold of missing values. If you found that this group was qualitatively different from the main bulk of the data, you should treat this as an additional data cluster in this analysis. Make sure that you account for the number of data points in this subset, for both the general population and customer datasets, when making your computations!\n",
    "- Which cluster or clusters are overrepresented in the customer dataset compared to the general population? Select at least one such cluster and infer what kind of people might be represented by that cluster. Use the principal component interpretations from step 2.3 or look at additional components to help you make this inference. Alternatively, you can use the `.inverse_transform()` method of the PCA and StandardScaler objects to transform centroids back to the original data space and interpret the retrieved values directly.\n",
    "- Perform a similar investigation for the underrepresented clusters. Which cluster or clusters are underrepresented in the customer dataset compared to the general population, and what kinds of people are typified by these clusters?"
   ]
  },
  {
   "cell_type": "code",
   "execution_count": null,
   "metadata": {},
   "outputs": [],
   "source": [
    "colmap = {'index': 'predicted_cluster', 0: 'counts'}\n",
    "display(azdias_cleaned.predicted_cluster.value_counts().reset_index().rename(columns=colmap))\n",
    "display(customers.predicted_cluster.value_counts().reset_index().rename(columns=colmap))"
   ]
  },
  {
   "cell_type": "code",
   "execution_count": null,
   "metadata": {},
   "outputs": [],
   "source": [
    "# Compare the proportion of data in each cluster for the customer data to the\n",
    "# proportion of data in each cluster for the general population.\n",
    "\n",
    "clusters_df = azdias_cleaned.predicted_cluster.value_counts().reset_index().merge(\n",
    "    customers.predicted_cluster.value_counts().reset_index(),\n",
    "    how='inner', on='index')\n",
    "\n",
    "clusters_df.columns=['cluster_no', 'general_proportion', 'customer_proportion']\n",
    "clusters_df.general_proportion = clusters_df.general_proportion / len(azdias_cleaned)\n",
    "clusters_df.customer_proportion = clusters_df.customer_proportion / len(customers)\n",
    "clusters_df = clusters_df.sort_values(by='cluster_no')\n",
    "clusters_df.plot(x='cluster_no', y=['general_proportion','customer_proportion'], kind='bar', figsize=(14,10))"
   ]
  },
  {
   "cell_type": "code",
   "execution_count": null,
   "metadata": {},
   "outputs": [],
   "source": [
    "clusters_df.head().hist() #x='cluster_no', y=['general_proportion', 'customer_proportion']"
   ]
  },
  {
   "cell_type": "code",
   "execution_count": null,
   "metadata": {},
   "outputs": [],
   "source": [
    "#Taken from Unsupervised Lesson 4\n",
    "def do_pca(n_components, data):\n",
    "    X = StandardScaler().fit_transform(data)\n",
    "    pca = PCA(n_components)\n",
    "    X_pca = pca.fit_transform(X)\n",
    "    return pca, X_pca\n",
    "\n",
    "def scree_plot(pca):\n",
    "    num_components = len(pca.explained_variance_ratio_)\n",
    "    ind = np.arange(num_components)\n",
    "    vals = pca.explained_variance_ratio_\n",
    " \n",
    "    plt.figure(figsize=(10, 6))\n",
    "    ax = plt.subplot(111)\n",
    "    cumvals = np.cumsum(vals)\n",
    "    ax.bar(ind, vals)\n",
    "    ax.plot(ind, cumvals)\n",
    "    for i in range(num_components):\n",
    "        ax.annotate(r\"%s%%\" % ((str(vals[i]*100)[:4])), (ind[i]+0.2, vals[i]), va=\"bottom\", ha=\"center\", fontsize=12)\n",
    " \n",
    "    ax.xaxis.set_tick_params(width=0)\n",
    "    ax.yaxis.set_tick_params(width=2, length=12)\n",
    " \n",
    "    ax.set_xlabel(\"Principal Component\")\n",
    "    ax.set_ylabel(\"Variance Explained (%)\")\n",
    "    plt.title('Explained Variance Per Principal Component')\n",
    "    \n",
    "_, n_comps = grid_search_results['best_params'].values()\n",
    "# pca, X_pca = do_pca (n_components=10, data=customers)\n",
    "pca, X_pca = do_pca (n_components=n_comps, data=azdias_cleaned)\n",
    "scree_plot(pca)"
   ]
  },
  {
   "cell_type": "code",
   "execution_count": null,
   "metadata": {},
   "outputs": [],
   "source": [
    "# pd.DataFrame.from_dict(dict(zip(customers.columns,\n",
    "#     pca.inverse_transform(cust_kms.km.cluster_centers_[14]))), orient='index').rename(\n",
    "# columns={0: 'feature_values'}).sort_values('feature_values', ascending=False)zΩ"
   ]
  },
  {
   "cell_type": "code",
   "execution_count": null,
   "metadata": {},
   "outputs": [],
   "source": [
    "#Taken from Unsupervised Lesson 4\n",
    "def pca_results(full_dataset, pca):\n",
    "\t# Dimension indexing\n",
    "\tdimensions = dimensions = ['Dimension {}'.format(i) for i in range(1,len(pca.components_)+1)]\n",
    "\n",
    "\t# PCA components\n",
    "\tcomponents = pd.DataFrame(np.round(pca.components_, 4), columns = full_dataset.keys())\n",
    "\tcomponents.index = dimensions\n",
    "\n",
    "\t# PCA explained variance\n",
    "\tratios = pca.explained_variance_ratio_.reshape(len(pca.components_), 1)\n",
    "\tvariance_ratios = pd.DataFrame(np.round(ratios, 4), columns = ['Explained Variance'])\n",
    "\tvariance_ratios.index = dimensions\n",
    "\n",
    "\t# Create a bar plot visualization\n",
    "\tfig, ax = plt.subplots(figsize = (20,14))\n",
    "\n",
    "\t# Plot the feature weights as a function of the components\n",
    "\tcomponents.plot(ax = ax, kind = 'bar');\n",
    "\tax.set_ylabel(\"Feature Weights\")\n",
    "\tax.set_xticklabels(dimensions, rotation=0)\n",
    "\n",
    "\n",
    "\t# Display the explained variance ratios\n",
    "\tfor i, ev in enumerate(pca.explained_variance_ratio_):\n",
    "\t\tax.text(i-0.40, ax.get_ylim()[1] + 0.05, \"Explained Variance\\n          %.4f\"%(ev))\n",
    "\n",
    "\t# Return a concatenated DataFrame\n",
    "\treturn pd.concat([variance_ratios, components], axis = 1)\n",
    "\n",
    "pca_results(azdias_cleaned, pca)"
   ]
  },
  {
   "cell_type": "code",
   "execution_count": null,
   "metadata": {},
   "outputs": [],
   "source": [
    "#Taken from Unsupervised Lesson 4\n",
    "def do_pca(n_components, data):\n",
    "    X = scale_features(data).fit_transform(data)\n",
    "    pca = PCA(n_components)\n",
    "    X_pca = pca.fit_transform(X)\n",
    "    return pca, X_pca\n",
    "\n",
    "def pca_results(full_dataset, pca):\n",
    "\t# Dimension indexing\n",
    "\tdimensions = dimensions = ['Dimension {}'.format(i) for i in range(1,len(pca.components_)+1)]\n",
    "\n",
    "\t# PCA components\n",
    "\tcomponents = pd.DataFrame(np.round(pca.components_, 4), columns = full_dataset.keys())\n",
    "\tcomponents.index = dimensions\n",
    "\n",
    "\t# PCA explained variance\n",
    "\tratios = pca.explained_variance_ratio_.reshape(len(pca.components_), 1)\n",
    "\tvariance_ratios = pd.DataFrame(np.round(ratios, 4), columns = ['Explained Variance'])\n",
    "\tvariance_ratios.index = dimensions\n",
    "\n",
    "\t# Return a concatenated DataFrame\n",
    "\treturn pd.concat([variance_ratios, components], axis = 1)\n",
    "\n",
    "_, n_comps = grid_search_results['best_params'].values()\n",
    "cpca, cX_pca = do_pca (n_components=n_comps, data=customers)\n",
    "apca, aX_pca = do_pca (n_components=n_comps, data=azdias_cleaned)"
   ]
  },
  {
   "cell_type": "code",
   "execution_count": null,
   "metadata": {},
   "outputs": [],
   "source": [
    "def show_dim_diff(gen_df, cust_df, gen_pca, cust_pca, col):\n",
    "    c = pca_results(cust_df, cust_pca).loc[col].reset_index()\n",
    "    a = pca_results(gen_df, gen_pca).loc[col].reset_index()\n",
    "    a.columns = ['Features', f'{col}(General)']\n",
    "    c.columns = ['Features', f'{col}(Customer)']\n",
    "    dim1 = pd.merge(a, c, on='Features')._to_pandas()\n",
    "    dim1 = dim1.drop(0, axis=0)\n",
    "    dim1 = dim1.drop(max(dim1.index), axis=0)\n",
    "    del a, c\n",
    "    # dim1[np.abs(dim1['Dimension 1(General)'] - dim1['Dimension 1(Customer)']) > .02]\n",
    "    dim1['absolute_diff'] = np.abs(dim1[f'{col}(General)'] - dim1[f'{col}(Customer)'])\n",
    "    df = dim1.sort_values(f'{col}(General)', ascending=False).head(n=10)\n",
    "    display(df.style.background_gradient(cmap='Greens'))\n",
    "    #TODO: Make graph to compare differences\n",
    "    \n",
    "for c in pca_results(customers, cpca).index:\n",
    "    show_dim_diff(azdias_cleaned, customers, apca, cpca, c)\n",
    "    "
   ]
  },
  {
   "cell_type": "code",
   "execution_count": null,
   "metadata": {},
   "outputs": [],
   "source": [
    "# What kinds of people are part of a cluster that is underrepresented in the\n",
    "# customer data compared to the general population?\n",
    "\"\"\" \n",
    "Dimension1 shows that financials, income levels, personality have the \n",
    "    largest differences between populations.\n",
    "Dimensino2 shows that personality, age, financial type, have the largest differences.\n",
    "Dimension3 shows that social status, financial type, household income,\n",
    "    environmental sustainability alignment, energy consumption, gender, etc.. are the\n",
    "    largest differences.\n",
    "....\n",
    "\"\"\"\n",
    "def plot_components(X, y):\n",
    "    '''\n",
    "    plots the data in a 2 dimensional space to view separation\n",
    "    INPUT: pretty straightforward again\n",
    "    OUTPUT: none\n",
    "    '''\n",
    "    x_min, x_max = np.min(X, 0), np.max(X, 0)\n",
    "    X = (X - x_min) / (x_max - x_min)\n",
    "    plt.figure(figsize=(10, 6))\n",
    "    for i in range(X.shape[0]):\n",
    "        plt.text(X[i, 0], X[i, 1], str(y[i]), color=plt.cm.Set1(y[i]), fontdict={'size': 15})\n",
    "\n",
    "    plt.xticks([]), plt.yticks([]), plt.ylim([-0.1,1.1]), plt.xlim([-0.1,1.1])\n",
    "\n",
    "plot_components(X_pca, gpreds)"
   ]
  },
  {
   "cell_type": "code",
   "execution_count": null,
   "metadata": {},
   "outputs": [],
   "source": [
    "# cpca = cust_kms.pipe[1].fit_transform(_)"
   ]
  },
  {
   "cell_type": "code",
   "execution_count": null,
   "metadata": {},
   "outputs": [],
   "source": [
    "# gmodel.steps[2][1].cluster_centers_[0][4]"
   ]
  },
  {
   "cell_type": "markdown",
   "metadata": {},
   "source": [
    "### Discussion 3.3: Compare Customer Data to Demographics Data\n",
    "\n",
    "(Double-click this cell and replace this text with your own text, reporting findings and conclusions from the clustering analysis. Can we describe segments of the population that are relatively popular with the mail-order company, or relatively unpopular with the company?)"
   ]
  },
  {
   "cell_type": "markdown",
   "metadata": {},
   "source": [
    "> Congratulations on making it this far in the project! Before you finish, make sure to check through the entire notebook from top to bottom to make sure that your analysis follows a logical flow and all of your findings are documented in **Discussion** cells. Once you've checked over all of your work, you should export the notebook as an HTML document to submit for evaluation. You can do this from the menu, navigating to **File -> Download as -> HTML (.html)**. You will submit both that document and this notebook for your project submission."
   ]
  },
  {
   "cell_type": "code",
   "execution_count": null,
   "metadata": {},
   "outputs": [],
   "source": []
  },
  {
   "cell_type": "code",
   "execution_count": null,
   "metadata": {},
   "outputs": [],
   "source": []
  }
 ],
 "metadata": {
  "kernelspec": {
   "display_name": "Python 3",
   "language": "python",
   "name": "python3"
  },
  "language_info": {
   "codemirror_mode": {
    "name": "ipython",
    "version": 3
   },
   "file_extension": ".py",
   "mimetype": "text/x-python",
   "name": "python",
   "nbconvert_exporter": "python",
   "pygments_lexer": "ipython3",
   "version": "3.7.4"
  }
 },
 "nbformat": 4,
 "nbformat_minor": 4
}
